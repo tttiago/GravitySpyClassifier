{
 "cells": [
  {
   "cell_type": "code",
   "execution_count": null,
   "id": "425766b2-1fc7-40af-8a4b-a907cdf7ff20",
   "metadata": {},
   "outputs": [],
   "source": [
    "import wandb\n",
    "api = wandb.Api()\n",
    "\n",
    "sweep_ids = ['gjnv0mua', 'kno86i7c', '9x922cee', 'ire6sash', 's45fguzh', 'g31vwkha', 'g1aqz63h', '2twrb0mg', 'zcg50g60']"
   ]
  },
  {
   "cell_type": "code",
   "execution_count": null,
   "id": "f3d1657c-e9a4-4cc8-8f97-42def44eec4f",
   "metadata": {},
   "outputs": [],
   "source": [
    "import pandas as pd"
   ]
  },
  {
   "cell_type": "code",
   "execution_count": null,
   "id": "0a3b248a-4d93-4abd-9dd8-6e563a86c792",
   "metadata": {},
   "outputs": [],
   "source": [
    "metric = 'f1_score'"
   ]
  },
  {
   "cell_type": "code",
   "execution_count": null,
   "id": "15b67667-e0fd-4f7a-97ae-027d40864020",
   "metadata": {},
   "outputs": [],
   "source": [
    "names, configs, f1_scores = [], [], []\n",
    "for i, sweep_id in enumerate(sweep_ids):\n",
    "    sweep = api.sweep(f\"ogait/thesis_gravity_spy/{sweep_id}\")\n",
    "    for run in sweep.runs:\n",
    "        names.append(run.name)\n",
    "        configs.append(f'tl_best{i+1}' if i < 6 else f'tl_fast{i-5}')\n",
    "        f1_scores.append(run.summary[metric])"
   ]
  },
  {
   "cell_type": "code",
   "execution_count": null,
   "id": "a5d50466-4729-4842-ab2a-db80d17a4d71",
   "metadata": {},
   "outputs": [],
   "source": [
    "sweep_id = \"m4nqsh6e\"\n",
    "sweep = api.sweep(f\"ogait/thesis_gravity_spy/{sweep_id}\")\n",
    "for run in sweep.runs:\n",
    "    names.append(run.name)\n",
    "    configs.append(\"baseline\")\n",
    "f1_scores += list(pd.read_csv('logs/04_baseline_scratch_corrected_f1.csv')['f1_score'])[::-1]"
   ]
  },
  {
   "cell_type": "code",
   "execution_count": null,
   "id": "51564ea3-ee9d-4387-b8cf-cf2a7c171a67",
   "metadata": {},
   "outputs": [],
   "source": [
    "sweep_id = \"bk150cyb\"\n",
    "sweep = api.sweep(f\"ogait/thesis_gravity_spy/{sweep_id}\")\n",
    "for run in sweep.runs:\n",
    "    names.append(run.name)\n",
    "    configs.append(\"baseline\")\n",
    "    f1_scores.append(run.summary[metric])"
   ]
  },
  {
   "cell_type": "code",
   "execution_count": null,
   "id": "3fd511a5-2060-4440-8baf-3d4c35c2527e",
   "metadata": {},
   "outputs": [
    {
     "data": {
      "text/html": [
       "<div>\n",
       "<style scoped>\n",
       "    .dataframe tbody tr th:only-of-type {\n",
       "        vertical-align: middle;\n",
       "    }\n",
       "\n",
       "    .dataframe tbody tr th {\n",
       "        vertical-align: top;\n",
       "    }\n",
       "\n",
       "    .dataframe thead th {\n",
       "        text-align: right;\n",
       "    }\n",
       "</style>\n",
       "<table border=\"1\" class=\"dataframe\">\n",
       "  <thead>\n",
       "    <tr style=\"text-align: right;\">\n",
       "      <th></th>\n",
       "      <th>config</th>\n",
       "      <th>name</th>\n",
       "      <th>f1_score</th>\n",
       "    </tr>\n",
       "  </thead>\n",
       "  <tbody>\n",
       "    <tr>\n",
       "      <th>50</th>\n",
       "      <td>tl_best1</td>\n",
       "      <td>eager-sweep-1</td>\n",
       "      <td>0.975900</td>\n",
       "    </tr>\n",
       "    <tr>\n",
       "      <th>51</th>\n",
       "      <td>tl_best1</td>\n",
       "      <td>dulcet-sweep-2</td>\n",
       "      <td>0.972614</td>\n",
       "    </tr>\n",
       "    <tr>\n",
       "      <th>52</th>\n",
       "      <td>tl_best1</td>\n",
       "      <td>playful-sweep-3</td>\n",
       "      <td>0.976118</td>\n",
       "    </tr>\n",
       "    <tr>\n",
       "      <th>53</th>\n",
       "      <td>tl_best1</td>\n",
       "      <td>solar-sweep-4</td>\n",
       "      <td>0.976968</td>\n",
       "    </tr>\n",
       "    <tr>\n",
       "      <th>54</th>\n",
       "      <td>tl_best1</td>\n",
       "      <td>pious-sweep-5</td>\n",
       "      <td>0.973063</td>\n",
       "    </tr>\n",
       "  </tbody>\n",
       "</table>\n",
       "</div>"
      ],
      "text/plain": [
       "      config             name  f1_score\n",
       "50  tl_best1    eager-sweep-1  0.975900\n",
       "51  tl_best1   dulcet-sweep-2  0.972614\n",
       "52  tl_best1  playful-sweep-3  0.976118\n",
       "53  tl_best1    solar-sweep-4  0.976968\n",
       "54  tl_best1    pious-sweep-5  0.973063"
      ]
     },
     "execution_count": null,
     "metadata": {},
     "output_type": "execute_result"
    }
   ],
   "source": [
    "f1_df = pd.DataFrame(list(zip(configs[::-1], names[::-1], f1_scores[::-1])), columns=['config', 'name', metric])\n",
    "f1_df.tail()"
   ]
  },
  {
   "cell_type": "code",
   "execution_count": null,
   "id": "7abb3480-af24-42b2-a430-5a99d071b7e8",
   "metadata": {},
   "outputs": [],
   "source": [
    "f1_df.to_csv('logs/12_transfer_best.csv', index=False)"
   ]
  },
  {
   "cell_type": "code",
   "execution_count": null,
   "id": "00567da9-8320-4e32-96e8-0ed5f55ed150",
   "metadata": {},
   "outputs": [],
   "source": []
  },
  {
   "cell_type": "code",
   "execution_count": null,
   "id": "63c1d4ea-acc2-4334-bce2-9fda0ac6de4e",
   "metadata": {},
   "outputs": [],
   "source": [
    "import pandas as pd\n",
    "import seaborn as sns\n",
    "import matplotlib.pyplot as plt"
   ]
  },
  {
   "cell_type": "code",
   "execution_count": null,
   "id": "7b0bfa24-e9c4-4bb8-9dfc-6a2d786def1b",
   "metadata": {},
   "outputs": [],
   "source": [
    "metric = 'f1_score'"
   ]
  },
  {
   "cell_type": "code",
   "execution_count": null,
   "id": "56be82dc-d70d-4c69-a391-7fc183a23573",
   "metadata": {},
   "outputs": [],
   "source": [
    "f1_df = pd.read_csv('logs/12_transfer_best.csv')"
   ]
  },
  {
   "cell_type": "code",
   "execution_count": null,
   "id": "e669a4a6-4c19-49a2-afb0-65d44d6895ff",
   "metadata": {},
   "outputs": [
    {
     "data": {
      "text/html": [
       "<div>\n",
       "<style scoped>\n",
       "    .dataframe tbody tr th:only-of-type {\n",
       "        vertical-align: middle;\n",
       "    }\n",
       "\n",
       "    .dataframe tbody tr th {\n",
       "        vertical-align: top;\n",
       "    }\n",
       "\n",
       "    .dataframe thead th {\n",
       "        text-align: right;\n",
       "    }\n",
       "</style>\n",
       "<table border=\"1\" class=\"dataframe\">\n",
       "  <thead>\n",
       "    <tr style=\"text-align: right;\">\n",
       "      <th></th>\n",
       "      <th>config</th>\n",
       "      <th>name</th>\n",
       "      <th>f1_score</th>\n",
       "    </tr>\n",
       "  </thead>\n",
       "  <tbody>\n",
       "    <tr>\n",
       "      <th>6</th>\n",
       "      <td>baseline</td>\n",
       "      <td>pleasant-sweep-2</td>\n",
       "      <td>0.967499</td>\n",
       "    </tr>\n",
       "    <tr>\n",
       "      <th>8</th>\n",
       "      <td>baseline</td>\n",
       "      <td>celestial-sweep-4</td>\n",
       "      <td>0.968429</td>\n",
       "    </tr>\n",
       "    <tr>\n",
       "      <th>9</th>\n",
       "      <td>baseline</td>\n",
       "      <td>happy-sweep-5</td>\n",
       "      <td>0.970251</td>\n",
       "    </tr>\n",
       "    <tr>\n",
       "      <th>1</th>\n",
       "      <td>baseline</td>\n",
       "      <td>earthy-sweep-2</td>\n",
       "      <td>0.971245</td>\n",
       "    </tr>\n",
       "    <tr>\n",
       "      <th>0</th>\n",
       "      <td>baseline</td>\n",
       "      <td>rare-sweep-1</td>\n",
       "      <td>0.972910</td>\n",
       "    </tr>\n",
       "    <tr>\n",
       "      <th>4</th>\n",
       "      <td>baseline</td>\n",
       "      <td>fluent-sweep-5</td>\n",
       "      <td>0.974682</td>\n",
       "    </tr>\n",
       "    <tr>\n",
       "      <th>5</th>\n",
       "      <td>baseline</td>\n",
       "      <td>celestial-sweep-1</td>\n",
       "      <td>0.978132</td>\n",
       "    </tr>\n",
       "    <tr>\n",
       "      <th>3</th>\n",
       "      <td>baseline</td>\n",
       "      <td>soft-sweep-4</td>\n",
       "      <td>0.979065</td>\n",
       "    </tr>\n",
       "    <tr>\n",
       "      <th>2</th>\n",
       "      <td>baseline</td>\n",
       "      <td>happy-sweep-3</td>\n",
       "      <td>0.980292</td>\n",
       "    </tr>\n",
       "    <tr>\n",
       "      <th>7</th>\n",
       "      <td>baseline</td>\n",
       "      <td>soft-sweep-3</td>\n",
       "      <td>0.980712</td>\n",
       "    </tr>\n",
       "  </tbody>\n",
       "</table>\n",
       "</div>"
      ],
      "text/plain": [
       "     config               name  f1_score\n",
       "6  baseline   pleasant-sweep-2  0.967499\n",
       "8  baseline  celestial-sweep-4  0.968429\n",
       "9  baseline      happy-sweep-5  0.970251\n",
       "1  baseline     earthy-sweep-2  0.971245\n",
       "0  baseline       rare-sweep-1  0.972910\n",
       "4  baseline     fluent-sweep-5  0.974682\n",
       "5  baseline  celestial-sweep-1  0.978132\n",
       "3  baseline       soft-sweep-4  0.979065\n",
       "2  baseline      happy-sweep-3  0.980292\n",
       "7  baseline       soft-sweep-3  0.980712"
      ]
     },
     "execution_count": null,
     "metadata": {},
     "output_type": "execute_result"
    }
   ],
   "source": [
    "f1_df.loc[f1_df['config']=='baseline'].sort_values(by=metric)"
   ]
  },
  {
   "cell_type": "code",
   "execution_count": null,
   "id": "1632e0ea-59db-4e38-b346-7e563d1bfb9d",
   "metadata": {},
   "outputs": [],
   "source": []
  },
  {
   "cell_type": "code",
   "execution_count": null,
   "id": "8273356f-5c12-4549-a9d7-e628109c96cd",
   "metadata": {},
   "outputs": [
    {
     "name": "stderr",
     "output_type": "stream",
     "text": [
      "/tmp/ipykernel_17563/943709967.py:1: FutureWarning: Dropping of nuisance columns in DataFrame reductions (with 'numeric_only=None') is deprecated; in a future version this will raise TypeError.  Select only valid columns before calling the reduction.\n",
      "  f1_df.loc[f1_df['config']=='baseline'].median()\n"
     ]
    },
    {
     "data": {
      "text/plain": [
       "f1_score    0.973796\n",
       "dtype: float64"
      ]
     },
     "execution_count": null,
     "metadata": {},
     "output_type": "execute_result"
    }
   ],
   "source": [
    "f1_df.loc[f1_df['config']=='baseline'].median()"
   ]
  },
  {
   "cell_type": "code",
   "execution_count": null,
   "id": "4078622e-51f6-4807-a6a8-3dc2569d5d8d",
   "metadata": {},
   "outputs": [
    {
     "data": {
      "image/png": "[encoded data removed]",
      "text/plain": [
       "<Figure size 864x432 with 1 Axes>"
      ]
     },
     "metadata": {
      "needs_background": "light"
     },
     "output_type": "display_data"
    }
   ],
   "source": [
    "fig = plt.figure(figsize=(12, 6))\n",
    "sns.boxplot(x='config', y=metric, data=f1_df, whis=100, order=sorted(f1_df['config'].unique()))\n",
    "plt.ylim([0.96, 0.985])\n",
    "plt.hlines(0.980712, -0.5, 9.5, linestyles='dotted', color='grey', label='baseline maximum')\n",
    "plt.hlines(0.973796, -0.5, 9.5, linestyles='dashed', color='grey', label='baseline median')\n",
    "ax = plt.gca()\n",
    "l = ax.get_ylabel()\n",
    "ax.set_ylabel(l, size='x-large')\n",
    "ax.set_xlabel(\"configuration\", size='x-large')\n",
    "plt.xticks(fontsize='large')\n",
    "plt.legend()\n",
    "#ax.set_xticks([])\n",
    "fig.tight_layout()\n",
    "\n",
    "fig.savefig('../figs/glitches/12_transfer_best_scores.pdf', dpi=600)"
   ]
  },
  {
   "cell_type": "code",
   "execution_count": null,
   "id": "809ba10d-3e8b-48ee-999e-f393ae9e9f30",
   "metadata": {},
   "outputs": [
    {
     "data": {
      "image/png": "[encoded data removed]",
      "text/plain": [
       "<Figure size 720x432 with 1 Axes>"
      ]
     },
     "metadata": {
      "needs_background": "light"
     },
     "output_type": "display_data"
    }
   ],
   "source": [
    "fig = plt.figure(figsize=(10, 6))\n",
    "sns.boxplot(x='config', y=metric, data=f1_df, whis=100, order=sorted(f1_df['config'].unique()))\n",
    "plt.ylim([0.96, 0.985])\n",
    "plt.hlines(0.980712, -0.5, 9.5, linestyles='dotted', color='grey', label='baseline maximum')\n",
    "plt.hlines(0.973796, -0.5, 9.5, linestyles='dashed', color='grey', label='baseline median')\n",
    "ax = plt.gca()\n",
    "l = ax.get_ylabel()\n",
    "ax.set_ylabel(l, size='x-large')\n",
    "ax.set_xlabel(\"configuration\", size='x-large')\n",
    "plt.xticks(fontsize='large')\n",
    "plt.legend()\n",
    "#ax.set_xticks([])\n",
    "fig.tight_layout()\n",
    "\n",
    "fig.savefig('../figs/glitches/12_transfer_best_scores_v2.pdf', dpi=600)"
   ]
  },
  {
   "cell_type": "code",
   "execution_count": null,
   "id": "816d4598-8695-4a47-9ee0-6c7ce47ce597",
   "metadata": {},
   "outputs": [
    {
     "data": {
      "text/html": [
       "<div>\n",
       "<style scoped>\n",
       "    .dataframe tbody tr th:only-of-type {\n",
       "        vertical-align: middle;\n",
       "    }\n",
       "\n",
       "    .dataframe tbody tr th {\n",
       "        vertical-align: top;\n",
       "    }\n",
       "\n",
       "    .dataframe thead th {\n",
       "        text-align: right;\n",
       "    }\n",
       "</style>\n",
       "<table border=\"1\" class=\"dataframe\">\n",
       "  <thead>\n",
       "    <tr style=\"text-align: right;\">\n",
       "      <th></th>\n",
       "      <th>Unnamed: 0</th>\n",
       "      <th>config</th>\n",
       "      <th>name</th>\n",
       "      <th>f1_score</th>\n",
       "    </tr>\n",
       "  </thead>\n",
       "  <tbody>\n",
       "    <tr>\n",
       "      <th>26</th>\n",
       "      <td>26</td>\n",
       "      <td>tl_best6</td>\n",
       "      <td>effortless-sweep-2</td>\n",
       "      <td>0.981348</td>\n",
       "    </tr>\n",
       "    <tr>\n",
       "      <th>7</th>\n",
       "      <td>7</td>\n",
       "      <td>baseline</td>\n",
       "      <td>soft-sweep-3</td>\n",
       "      <td>0.980712</td>\n",
       "    </tr>\n",
       "    <tr>\n",
       "      <th>23</th>\n",
       "      <td>23</td>\n",
       "      <td>tl_fast1</td>\n",
       "      <td>ethereal-sweep-4</td>\n",
       "      <td>0.980595</td>\n",
       "    </tr>\n",
       "    <tr>\n",
       "      <th>33</th>\n",
       "      <td>33</td>\n",
       "      <td>tl_best5</td>\n",
       "      <td>logical-sweep-4</td>\n",
       "      <td>0.980402</td>\n",
       "    </tr>\n",
       "    <tr>\n",
       "      <th>2</th>\n",
       "      <td>2</td>\n",
       "      <td>baseline</td>\n",
       "      <td>happy-sweep-3</td>\n",
       "      <td>0.980292</td>\n",
       "    </tr>\n",
       "    <tr>\n",
       "      <th>31</th>\n",
       "      <td>31</td>\n",
       "      <td>tl_best5</td>\n",
       "      <td>dashing-sweep-2</td>\n",
       "      <td>0.979969</td>\n",
       "    </tr>\n",
       "    <tr>\n",
       "      <th>24</th>\n",
       "      <td>24</td>\n",
       "      <td>tl_fast1</td>\n",
       "      <td>swift-sweep-5</td>\n",
       "      <td>0.979934</td>\n",
       "    </tr>\n",
       "    <tr>\n",
       "      <th>22</th>\n",
       "      <td>22</td>\n",
       "      <td>tl_fast1</td>\n",
       "      <td>trim-sweep-3</td>\n",
       "      <td>0.979741</td>\n",
       "    </tr>\n",
       "    <tr>\n",
       "      <th>44</th>\n",
       "      <td>44</td>\n",
       "      <td>tl_best3</td>\n",
       "      <td>sparkling-sweep-5</td>\n",
       "      <td>0.979463</td>\n",
       "    </tr>\n",
       "    <tr>\n",
       "      <th>13</th>\n",
       "      <td>13</td>\n",
       "      <td>tl_fast3</td>\n",
       "      <td>sweet-sweep-4</td>\n",
       "      <td>0.979354</td>\n",
       "    </tr>\n",
       "  </tbody>\n",
       "</table>\n",
       "</div>"
      ],
      "text/plain": [
       "    Unnamed: 0    config                name  f1_score\n",
       "26          26  tl_best6  effortless-sweep-2  0.981348\n",
       "7            7  baseline        soft-sweep-3  0.980712\n",
       "23          23  tl_fast1    ethereal-sweep-4  0.980595\n",
       "33          33  tl_best5     logical-sweep-4  0.980402\n",
       "2            2  baseline       happy-sweep-3  0.980292\n",
       "31          31  tl_best5     dashing-sweep-2  0.979969\n",
       "24          24  tl_fast1       swift-sweep-5  0.979934\n",
       "22          22  tl_fast1        trim-sweep-3  0.979741\n",
       "44          44  tl_best3   sparkling-sweep-5  0.979463\n",
       "13          13  tl_fast3       sweet-sweep-4  0.979354"
      ]
     },
     "execution_count": null,
     "metadata": {},
     "output_type": "execute_result"
    }
   ],
   "source": [
    "f1_df.sort_values(by='f1_score', ascending=False).head(10)"
   ]
  },
  {
   "cell_type": "code",
   "execution_count": null,
   "id": "99f5f955-7586-4b82-9f18-e786cf208e2f",
   "metadata": {},
   "outputs": [],
   "source": []
  }
 ],
 "metadata": {
  "kernelspec": {
   "display_name": "Python [conda env:fastai]",
   "language": "python",
   "name": "conda-env-fastai-py"
  }
 },
 "nbformat": 4,
 "nbformat_minor": 5
}
