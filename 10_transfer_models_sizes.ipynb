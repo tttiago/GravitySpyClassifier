{
 "cells": [
  {
   "cell_type": "code",
   "execution_count": 1,
   "id": "8309089c-1b85-4e17-a3d2-79143ebe4851",
   "metadata": {},
   "outputs": [
    {
     "name": "stderr",
     "output_type": "stream",
     "text": [
      "/home/tiago/anaconda3/envs/fastai/lib/python3.9/site-packages/torch/cuda/__init__.py:52: UserWarning: CUDA initialization: Found no NVIDIA driver on your system. Please check that you have an NVIDIA GPU and installed a driver from http://www.nvidia.com/Download/index.aspx (Triggered internally at  /opt/conda/conda-bld/pytorch_1607370151529/work/c10/cuda/CUDAFunctions.cpp:100.)\n",
      "  return torch._C._cuda_getDeviceCount() > 0\n"
     ]
    }
   ],
   "source": [
    "from fastai.vision.all import *"
   ]
  },
  {
   "cell_type": "code",
   "execution_count": 52,
   "id": "598080eb-c07f-4d75-9360-5997c740d8a1",
   "metadata": {},
   "outputs": [],
   "source": [
    "from timm import models"
   ]
  },
  {
   "cell_type": "code",
   "execution_count": 68,
   "id": "046526c0-e3e7-406a-bdea-e84a1f484a17",
   "metadata": {},
   "outputs": [],
   "source": [
    "import numpy as np\n",
    "import matplotlib.pyplot as plt\n",
    "import seaborn as sns"
   ]
  },
  {
   "cell_type": "code",
   "execution_count": 92,
   "id": "2b5aba30-1dd6-4a7f-a0c9-f616fe41033a",
   "metadata": {},
   "outputs": [
    {
     "name": "stderr",
     "output_type": "stream",
     "text": [
      "\u001b[34m\u001b[1mwandb\u001b[0m: Sorting runs by -summary_metrics.f1_score\n",
      "\u001b[34m\u001b[1mwandb\u001b[0m: \u001b[33mWARNING\u001b[0m A graphql request initiated by the public wandb API timed out (timeout=9 sec). Create a new API with an integer timeout larger than 9, e.g., `api = wandb.Api(timeout=19)` to increase the graphql timeout.\n"
     ]
    }
   ],
   "source": [
    "import wandb\n",
    "\n",
    "api = wandb.Api()\n",
    "\n",
    "sweep_id = \"czxa4tzd\"\n",
    "sweep = api.sweep(f\"ogait/thesis_gravity_spy/{sweep_id}\")\n",
    "best_run_config = sweep.best_run().config"
   ]
  },
  {
   "cell_type": "code",
   "execution_count": 93,
   "id": "dff61df2-f704-444c-91a8-5a183940f7ca",
   "metadata": {},
   "outputs": [],
   "source": [
    "config = dotdict(best_run_config)\n",
    "config.inference = True"
   ]
  },
  {
   "cell_type": "markdown",
   "id": "8de30026-5fa0-48fe-9b55-f760c7ae3cb8",
   "metadata": {
    "tags": []
   },
   "source": [
    "### Model sizes"
   ]
  },
  {
   "cell_type": "code",
   "execution_count": 94,
   "id": "55ee2991-2cb0-47fc-8223-e665d04b46bc",
   "metadata": {},
   "outputs": [],
   "source": [
    "def get_param_number(learner):\n",
    "    return sum(p.numel() for p in learner.model.parameters())"
   ]
  },
  {
   "cell_type": "code",
   "execution_count": 95,
   "id": "9c33024d-b263-4cf3-b897-7cb71a21015e",
   "metadata": {},
   "outputs": [],
   "source": [
    "from wandb_sweep import get_dls, get_learner"
   ]
  },
  {
   "cell_type": "code",
   "execution_count": 96,
   "id": "17e77b1e-9850-4f79-8334-ff2dee5dd64c",
   "metadata": {},
   "outputs": [],
   "source": [
    "dls, image_size, n_channels = get_dls(config)"
   ]
  },
  {
   "cell_type": "code",
   "execution_count": 97,
   "id": "cf808994-0725-4215-ad06-20ed2fb7594e",
   "metadata": {},
   "outputs": [],
   "source": [
    "config.architecture = 'resnet18'"
   ]
  },
  {
   "cell_type": "code",
   "execution_count": 98,
   "id": "f56f3bce-ec00-4754-b23a-c7fb59492f58",
   "metadata": {},
   "outputs": [],
   "source": [
    "learner = get_learner(config, dls, n_channels)"
   ]
  },
  {
   "cell_type": "code",
   "execution_count": null,
   "id": "9a7bb830-6ab7-4d22-b912-a4e9e77164d0",
   "metadata": {},
   "outputs": [],
   "source": []
  },
  {
   "cell_type": "code",
   "execution_count": 56,
   "id": "81fa84dd-b347-43fb-b1de-412c469c7f66",
   "metadata": {},
   "outputs": [],
   "source": [
    "models = ['resnet18', 'resnet26', 'resnet34', 'resnet50', 'resnet101', 'convnext_nano', 'convnext_tiny', 'convnext_small']"
   ]
  },
  {
   "cell_type": "code",
   "execution_count": 99,
   "id": "61bede74-bee5-4735-9663-573921d7044b",
   "metadata": {},
   "outputs": [],
   "source": [
    "n_params = []\n",
    "for model in models:\n",
    "    config.architecture = model\n",
    "    learner = get_learner(config, dls, n_channels)\n",
    "    n_params.append(get_param_number(learner))\n",
    "n_params = np.array(n_params)"
   ]
  },
  {
   "cell_type": "code",
   "execution_count": 101,
   "id": "5bf56237-6188-47db-99ba-8c55712e2770",
   "metadata": {},
   "outputs": [
    {
     "data": {
      "image/png": "[encoded data removed]",
      "text/plain": [
       "<Figure size 720x432 with 1 Axes>"
      ]
     },
     "metadata": {
      "needs_background": "light"
     },
     "output_type": "display_data"
    }
   ],
   "source": [
    "fig = plt.figure(figsize=(10, 6))\n",
    "\n",
    "sns.barplot(models, n_params/10**6)\n",
    "plt.xlabel('architecture', fontsize='x-large')\n",
    "plt.ylabel('Number of parameters (in millions)', fontsize='x-large')\n",
    "plt.tick_params(axis='x', rotation=45)\n",
    "plt.xticks(fontsize='large');\n",
    "\n",
    "fig.tight_layout()\n",
    "fig.savefig('../figs/glitches/10_transfer_model_sizes.png', dpi=300)"
   ]
  },
  {
   "cell_type": "code",
   "execution_count": 102,
   "id": "1e8b8087-1417-4c67-af77-4a423b19e488",
   "metadata": {},
   "outputs": [
    {
     "data": {
      "text/plain": [
       "array([11.187798, 13.991254, 21.295958, 23.55311 , 42.545238, 14.966662,\n",
       "       27.837046, 49.471606])"
      ]
     },
     "execution_count": 102,
     "metadata": {},
     "output_type": "execute_result"
    }
   ],
   "source": [
    "n_params/1e6"
   ]
  },
  {
   "cell_type": "code",
   "execution_count": null,
   "id": "2adef3fb-553f-4b51-a08e-8e76b3801ca3",
   "metadata": {},
   "outputs": [],
   "source": []
  }
 ],
 "metadata": {
  "kernelspec": {
   "display_name": "Python [conda env:fastai]",
   "language": "python",
   "name": "conda-env-fastai-py"
  },
  "language_info": {
   "codemirror_mode": {
    "name": "ipython",
    "version": 3
   },
   "file_extension": ".py",
   "mimetype": "text/x-python",
   "name": "python",
   "nbconvert_exporter": "python",
   "pygments_lexer": "ipython3",
   "version": "3.9.7"
  }
 },
 "nbformat": 4,
 "nbformat_minor": 5
}
