{
 "cells": [
  {
   "cell_type": "markdown",
   "id": "b3cbd353-6f97-4a5d-b628-0f63018ce222",
   "metadata": {},
   "source": [
    "### Dataset download"
   ]
  },
  {
   "cell_type": "code",
   "execution_count": null,
   "id": "dd88ed3f-b84e-4236-b4a8-88af06228d7a",
   "metadata": {},
   "outputs": [
    {
     "name": "stdout",
     "output_type": "stream",
     "text": [
      "Get:1 https://deb.nodesource.com/node_16.x focal InRelease [4583 B]\n",
      "Get:2 http://archive.ubuntu.com/ubuntu focal InRelease [265 kB]                \n",
      "Get:3 https://deb.nodesource.com/node_16.x focal/main amd64 Packages [774 B]   \n",
      "Get:4 http://archive.ubuntu.com/ubuntu focal-updates InRelease [114 kB]        \n",
      "Get:5 http://archive.ubuntu.com/ubuntu focal-backports InRelease [108 kB]      \n",
      "Get:6 http://security.ubuntu.com/ubuntu focal-security InRelease [114 kB]      \n",
      "Get:7 http://ppa.launchpad.net/deadsnakes/ppa/ubuntu focal InRelease [18.1 kB] \n",
      "Get:8 http://archive.ubuntu.com/ubuntu focal/universe amd64 Packages [11.3 MB]\n",
      "Get:9 http://ppa.launchpad.net/deadsnakes/ppa/ubuntu focal/main amd64 Packages [26.6 kB]\n",
      "Get:10 http://security.ubuntu.com/ubuntu focal-security/multiverse amd64 Packages [27.5 kB]\n",
      "Get:11 http://archive.ubuntu.com/ubuntu focal/main amd64 Packages [1275 kB]\n",
      "Get:12 http://archive.ubuntu.com/ubuntu focal/multiverse amd64 Packages [177 kB]\n",
      "Get:13 http://archive.ubuntu.com/ubuntu focal/restricted amd64 Packages [33.4 kB]\n",
      "Get:14 http://archive.ubuntu.com/ubuntu focal-updates/universe amd64 Packages [1176 kB]\n",
      "Get:15 http://archive.ubuntu.com/ubuntu focal-updates/restricted amd64 Packages [1569 kB]\n",
      "Get:16 http://security.ubuntu.com/ubuntu focal-security/restricted amd64 Packages [1461 kB]\n",
      "Get:17 http://archive.ubuntu.com/ubuntu focal-updates/multiverse amd64 Packages [30.2 kB]\n",
      "Get:18 http://archive.ubuntu.com/ubuntu focal-updates/main amd64 Packages [2539 kB]\n",
      "Get:19 http://archive.ubuntu.com/ubuntu focal-backports/main amd64 Packages [55.2 kB]\n",
      "Get:20 http://archive.ubuntu.com/ubuntu focal-backports/universe amd64 Packages [27.5 kB]\n",
      "Get:21 http://security.ubuntu.com/ubuntu focal-security/universe amd64 Packages [888 kB]\n",
      "Get:22 http://security.ubuntu.com/ubuntu focal-security/main amd64 Packages [2087 kB]\n",
      "Fetched 23.3 MB in 3s (7672 kB/s)\n",
      "Reading package lists... Done\n",
      "Reading package lists... Done\n",
      "Building dependency tree       \n",
      "Reading state information... Done\n",
      "wget is already the newest version (1.20.3-1ubuntu2).\n",
      "0 upgraded, 0 newly installed, 0 to remove and 44 not upgraded.\n"
     ]
    }
   ],
   "source": [
    "!apt-get update\n",
    "!apt-get install wget"
   ]
  },
  {
   "cell_type": "code",
   "execution_count": null,
   "id": "02047556-5926-468b-9bcc-e32b7c5c65ee",
   "metadata": {},
   "outputs": [
    {
     "name": "stdout",
     "output_type": "stream",
     "text": [
      "--2022-08-14 11:03:14--  https://zenodo.org/record/1476156/files/trainingset_v1d0_metadata.csv\n",
      "Resolving zenodo.org (zenodo.org)... 137.138.76.77\n",
      "Connecting to zenodo.org (zenodo.org)|137.138.76.77|:443... connected.\n",
      "HTTP request sent, awaiting response... 200 OK\n",
      "Length: 248944 (243K) [text/plain]\n",
      "Saving to: ‘./datasets/Glitches/trainingset_v1d0_metadata.csv’\n",
      "\n",
      "trainingset_v1d0_me 100%[===================>] 243.11K   397KB/s    in 0.6s    \n",
      "\n",
      "2022-08-14 11:03:16 (397 KB/s) - ‘./datasets/Glitches/trainingset_v1d0_metadata.csv’ saved [248944/248944]\n",
      "\n",
      "--2022-08-14 11:03:16--  https://zenodo.org/record/1476156/files/trainingsetv1d0.h5\n",
      "Resolving zenodo.org (zenodo.org)... 137.138.76.77\n",
      "Connecting to zenodo.org (zenodo.org)|137.138.76.77|:443... connected.\n",
      "HTTP request sent, awaiting response... 200 OK\n",
      "Length: 3287645752 (3.1G) [application/octet-stream]\n",
      "Saving to: ‘./datasets/Glitches/trainingsetv1d0.h5’\n",
      "\n",
      "trainingsetv1d0.h5  100%[===================>]   3.06G  2.44MB/s    in 22m 25s \n",
      "\n",
      "2022-08-14 11:25:43 (2.33 MB/s) - ‘./datasets/Glitches/trainingsetv1d0.h5’ saved [3287645752/3287645752]\n",
      "\n"
     ]
    }
   ],
   "source": [
    "!wget https://zenodo.org/record/1476156/files/trainingset_v1d0_metadata.csv -P ./datasets/Glitches/\n",
    "!wget https://zenodo.org/record/1476156/files/trainingsetv1d0.h5 -P ./datasets/Glitches/"
   ]
  },
  {
   "cell_type": "code",
   "execution_count": null,
   "id": "b5d5ac9a-3082-4f5f-80bc-95f3a51d0ee5",
   "metadata": {},
   "outputs": [],
   "source": []
  }
 ],
 "metadata": {
  "kernelspec": {
   "display_name": "Python 3 (ipykernel)",
   "language": "python",
   "name": "python3"
  }
 },
 "nbformat": 4,
 "nbformat_minor": 5
}
