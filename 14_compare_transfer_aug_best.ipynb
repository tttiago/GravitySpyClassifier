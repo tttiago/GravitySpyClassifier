{
 "cells": [
  {
   "cell_type": "code",
   "execution_count": 114,
   "id": "63c1d4ea-acc2-4334-bce2-9fda0ac6de4e",
   "metadata": {},
   "outputs": [],
   "source": [
    "import pandas as pd\n",
    "import seaborn as sns\n",
    "import matplotlib.pyplot as plt"
   ]
  },
  {
   "cell_type": "code",
   "execution_count": 115,
   "id": "e66b629e-0755-4c18-80e5-8ce8b22de2a8",
   "metadata": {},
   "outputs": [],
   "source": [
    "sweep_ids = ['g1aqz63h', '845p0uii', 'o3notvc2', 'wxt1oine', 's45fguzh', '7q1kfajs', '4lbohk75', 'ayyanv69']\n",
    "config_names = ['tl_fast1', 'tl_fast1_aug1', 'tl_fast1_aug2', 'tl_fast1_aug3', 'tl_best5', 'tl_best5_aug1', 'tl_best5_aug2', 'tl_best5_aug3']"
   ]
  },
  {
   "cell_type": "code",
   "execution_count": 116,
   "id": "425766b2-1fc7-40af-8a4b-a907cdf7ff20",
   "metadata": {},
   "outputs": [],
   "source": [
    "import wandb\n",
    "api = wandb.Api()"
   ]
  },
  {
   "cell_type": "code",
   "execution_count": 117,
   "id": "0a3b248a-4d93-4abd-9dd8-6e563a86c792",
   "metadata": {},
   "outputs": [],
   "source": [
    "metric = 'f1_score'"
   ]
  },
  {
   "cell_type": "code",
   "execution_count": 118,
   "id": "15b67667-e0fd-4f7a-97ae-027d40864020",
   "metadata": {},
   "outputs": [],
   "source": [
    "names, configs, f1_scores = [], [], []\n",
    "for i, sweep_id in enumerate(sweep_ids):\n",
    "    sweep = api.sweep(f\"ogait/thesis_gravity_spy/{sweep_id}\")\n",
    "    for run in sweep.runs:\n",
    "        names.append(run.name)\n",
    "        configs.append(config_names[i])\n",
    "        f1_scores.append(run.summary[metric])"
   ]
  },
  {
   "cell_type": "code",
   "execution_count": 119,
   "id": "3fd511a5-2060-4440-8baf-3d4c35c2527e",
   "metadata": {},
   "outputs": [
    {
     "data": {
      "text/html": [
       "<div>\n",
       "<style scoped>\n",
       "    .dataframe tbody tr th:only-of-type {\n",
       "        vertical-align: middle;\n",
       "    }\n",
       "\n",
       "    .dataframe tbody tr th {\n",
       "        vertical-align: top;\n",
       "    }\n",
       "\n",
       "    .dataframe thead th {\n",
       "        text-align: right;\n",
       "    }\n",
       "</style>\n",
       "<table border=\"1\" class=\"dataframe\">\n",
       "  <thead>\n",
       "    <tr style=\"text-align: right;\">\n",
       "      <th></th>\n",
       "      <th>config</th>\n",
       "      <th>name</th>\n",
       "      <th>f1_score</th>\n",
       "    </tr>\n",
       "  </thead>\n",
       "  <tbody>\n",
       "    <tr>\n",
       "      <th>35</th>\n",
       "      <td>tl_fast1</td>\n",
       "      <td>devout-sweep-1</td>\n",
       "      <td>0.976330</td>\n",
       "    </tr>\n",
       "    <tr>\n",
       "      <th>36</th>\n",
       "      <td>tl_fast1</td>\n",
       "      <td>curious-sweep-2</td>\n",
       "      <td>0.975395</td>\n",
       "    </tr>\n",
       "    <tr>\n",
       "      <th>37</th>\n",
       "      <td>tl_fast1</td>\n",
       "      <td>trim-sweep-3</td>\n",
       "      <td>0.979741</td>\n",
       "    </tr>\n",
       "    <tr>\n",
       "      <th>38</th>\n",
       "      <td>tl_fast1</td>\n",
       "      <td>ethereal-sweep-4</td>\n",
       "      <td>0.980595</td>\n",
       "    </tr>\n",
       "    <tr>\n",
       "      <th>39</th>\n",
       "      <td>tl_fast1</td>\n",
       "      <td>swift-sweep-5</td>\n",
       "      <td>0.979934</td>\n",
       "    </tr>\n",
       "  </tbody>\n",
       "</table>\n",
       "</div>"
      ],
      "text/plain": [
       "      config              name  f1_score\n",
       "35  tl_fast1    devout-sweep-1  0.976330\n",
       "36  tl_fast1   curious-sweep-2  0.975395\n",
       "37  tl_fast1      trim-sweep-3  0.979741\n",
       "38  tl_fast1  ethereal-sweep-4  0.980595\n",
       "39  tl_fast1     swift-sweep-5  0.979934"
      ]
     },
     "execution_count": 119,
     "metadata": {},
     "output_type": "execute_result"
    }
   ],
   "source": [
    "f1_df = pd.DataFrame(list(zip(configs[::-1], names[::-1], f1_scores[::-1])), columns=['config', 'name', metric])\n",
    "f1_df.tail()"
   ]
  },
  {
   "cell_type": "code",
   "execution_count": 120,
   "id": "e669a4a6-4c19-49a2-afb0-65d44d6895ff",
   "metadata": {},
   "outputs": [
    {
     "data": {
      "text/html": [
       "<div>\n",
       "<style scoped>\n",
       "    .dataframe tbody tr th:only-of-type {\n",
       "        vertical-align: middle;\n",
       "    }\n",
       "\n",
       "    .dataframe tbody tr th {\n",
       "        vertical-align: top;\n",
       "    }\n",
       "\n",
       "    .dataframe thead th {\n",
       "        text-align: right;\n",
       "    }\n",
       "</style>\n",
       "<table border=\"1\" class=\"dataframe\">\n",
       "  <thead>\n",
       "    <tr style=\"text-align: right;\">\n",
       "      <th></th>\n",
       "      <th>config</th>\n",
       "      <th>name</th>\n",
       "      <th>f1_score</th>\n",
       "    </tr>\n",
       "  </thead>\n",
       "  <tbody>\n",
       "    <tr>\n",
       "      <th>15</th>\n",
       "      <td>tl_best5</td>\n",
       "      <td>neat-sweep-1</td>\n",
       "      <td>0.975796</td>\n",
       "    </tr>\n",
       "    <tr>\n",
       "      <th>19</th>\n",
       "      <td>tl_best5</td>\n",
       "      <td>major-sweep-5</td>\n",
       "      <td>0.977860</td>\n",
       "    </tr>\n",
       "    <tr>\n",
       "      <th>17</th>\n",
       "      <td>tl_best5</td>\n",
       "      <td>dry-sweep-3</td>\n",
       "      <td>0.977965</td>\n",
       "    </tr>\n",
       "    <tr>\n",
       "      <th>16</th>\n",
       "      <td>tl_best5</td>\n",
       "      <td>dashing-sweep-2</td>\n",
       "      <td>0.979969</td>\n",
       "    </tr>\n",
       "    <tr>\n",
       "      <th>18</th>\n",
       "      <td>tl_best5</td>\n",
       "      <td>logical-sweep-4</td>\n",
       "      <td>0.980402</td>\n",
       "    </tr>\n",
       "  </tbody>\n",
       "</table>\n",
       "</div>"
      ],
      "text/plain": [
       "      config             name  f1_score\n",
       "15  tl_best5     neat-sweep-1  0.975796\n",
       "19  tl_best5    major-sweep-5  0.977860\n",
       "17  tl_best5      dry-sweep-3  0.977965\n",
       "16  tl_best5  dashing-sweep-2  0.979969\n",
       "18  tl_best5  logical-sweep-4  0.980402"
      ]
     },
     "execution_count": 120,
     "metadata": {},
     "output_type": "execute_result"
    }
   ],
   "source": [
    "f1_df.loc[f1_df['config']=='tl_best5'].sort_values(by=metric)"
   ]
  },
  {
   "cell_type": "code",
   "execution_count": 121,
   "id": "a2dd433f-9e7e-4d4c-8d32-799a865ec73d",
   "metadata": {},
   "outputs": [
    {
     "data": {
      "text/html": [
       "<div>\n",
       "<style scoped>\n",
       "    .dataframe tbody tr th:only-of-type {\n",
       "        vertical-align: middle;\n",
       "    }\n",
       "\n",
       "    .dataframe tbody tr th {\n",
       "        vertical-align: top;\n",
       "    }\n",
       "\n",
       "    .dataframe thead th {\n",
       "        text-align: right;\n",
       "    }\n",
       "</style>\n",
       "<table border=\"1\" class=\"dataframe\">\n",
       "  <thead>\n",
       "    <tr style=\"text-align: right;\">\n",
       "      <th></th>\n",
       "      <th>config</th>\n",
       "      <th>name</th>\n",
       "      <th>f1_score</th>\n",
       "    </tr>\n",
       "  </thead>\n",
       "  <tbody>\n",
       "    <tr>\n",
       "      <th>5</th>\n",
       "      <td>tl_best5_aug2</td>\n",
       "      <td>dark-sweep-1</td>\n",
       "      <td>0.981552</td>\n",
       "    </tr>\n",
       "    <tr>\n",
       "      <th>20</th>\n",
       "      <td>tl_fast1_aug3</td>\n",
       "      <td>amber-sweep-1</td>\n",
       "      <td>0.981259</td>\n",
       "    </tr>\n",
       "    <tr>\n",
       "      <th>38</th>\n",
       "      <td>tl_fast1</td>\n",
       "      <td>ethereal-sweep-4</td>\n",
       "      <td>0.980595</td>\n",
       "    </tr>\n",
       "    <tr>\n",
       "      <th>18</th>\n",
       "      <td>tl_best5</td>\n",
       "      <td>logical-sweep-4</td>\n",
       "      <td>0.980402</td>\n",
       "    </tr>\n",
       "    <tr>\n",
       "      <th>32</th>\n",
       "      <td>tl_fast1_aug1</td>\n",
       "      <td>drawn-sweep-3</td>\n",
       "      <td>0.980217</td>\n",
       "    </tr>\n",
       "  </tbody>\n",
       "</table>\n",
       "</div>"
      ],
      "text/plain": [
       "           config              name  f1_score\n",
       "5   tl_best5_aug2      dark-sweep-1  0.981552\n",
       "20  tl_fast1_aug3     amber-sweep-1  0.981259\n",
       "38       tl_fast1  ethereal-sweep-4  0.980595\n",
       "18       tl_best5   logical-sweep-4  0.980402\n",
       "32  tl_fast1_aug1     drawn-sweep-3  0.980217"
      ]
     },
     "execution_count": 121,
     "metadata": {},
     "output_type": "execute_result"
    }
   ],
   "source": [
    "f1_df.sort_values(by=metric, ascending=False).head()"
   ]
  },
  {
   "cell_type": "code",
   "execution_count": 122,
   "id": "7cfca3c3-898a-439e-82e8-7b1b93ffcb28",
   "metadata": {},
   "outputs": [],
   "source": [
    "sns_colours = sns.color_palette()"
   ]
  },
  {
   "cell_type": "code",
   "execution_count": 125,
   "id": "4078622e-51f6-4807-a6a8-3dc2569d5d8d",
   "metadata": {},
   "outputs": [
    {
     "data": {
      "image/png": "[encoded data removed]",
      "text/plain": [
       "<Figure size 720x432 with 1 Axes>"
      ]
     },
     "metadata": {
      "needs_background": "light"
     },
     "output_type": "display_data"
    }
   ],
   "source": [
    "fig = plt.figure(figsize=(10, 6))\n",
    "sns.boxplot(x='config', y=metric, data=f1_df, whis=100, order=sorted(f1_df['config'].unique()))\n",
    "#plt.ylim([0.945, 0.985])\n",
    "plt.hlines(0.980402, 0, 3.4, linestyles='dotted', color=sns_colours[0], label='tl_best5 maximum')\n",
    "plt.hlines(0.977965, 0, 3.4, linestyles='dashed', color=sns_colours[0], label='tl_best5 median')\n",
    "plt.hlines(0.980595, 4, 7.5, linestyles='dotted', color=sns_colours[4], label='tl_fast1 maximum')\n",
    "plt.hlines(0.979741, 4, 7.5, linestyles='dashed', color=sns_colours[4], label='tl_fast1 median')\n",
    "#plt.hlines(0.973796, -0.5, 9.5, linestyles='dashed', color='grey', label='baseline median')\n",
    "\n",
    "plt.vlines(3.5, ymin=0.953, ymax=0.982, linestyles='dashed', color='grey')\n",
    "ax = plt.gca()\n",
    "l = ax.get_ylabel()\n",
    "ax.set_ylabel(l, size='x-large')\n",
    "ax.set_xlabel(\"configuration\", size='x-large')\n",
    "plt.xticks(fontsize='large', rotation=30)\n",
    "plt.legend()\n",
    "#ax.set_xticks([])\n",
    "fig.tight_layout()\n",
    "\n",
    "fig.savefig('../figs/glitches/14_transfer_aug_scores.png', dpi=300)"
   ]
  },
  {
   "cell_type": "code",
   "execution_count": 126,
   "id": "816d4598-8695-4a47-9ee0-6c7ce47ce597",
   "metadata": {},
   "outputs": [
    {
     "data": {
      "text/html": [
       "<div>\n",
       "<style scoped>\n",
       "    .dataframe tbody tr th:only-of-type {\n",
       "        vertical-align: middle;\n",
       "    }\n",
       "\n",
       "    .dataframe tbody tr th {\n",
       "        vertical-align: top;\n",
       "    }\n",
       "\n",
       "    .dataframe thead th {\n",
       "        text-align: right;\n",
       "    }\n",
       "</style>\n",
       "<table border=\"1\" class=\"dataframe\">\n",
       "  <thead>\n",
       "    <tr style=\"text-align: right;\">\n",
       "      <th></th>\n",
       "      <th>config</th>\n",
       "      <th>name</th>\n",
       "      <th>f1_score</th>\n",
       "    </tr>\n",
       "  </thead>\n",
       "  <tbody>\n",
       "    <tr>\n",
       "      <th>5</th>\n",
       "      <td>tl_best5_aug2</td>\n",
       "      <td>dark-sweep-1</td>\n",
       "      <td>0.981552</td>\n",
       "    </tr>\n",
       "    <tr>\n",
       "      <th>20</th>\n",
       "      <td>tl_fast1_aug3</td>\n",
       "      <td>amber-sweep-1</td>\n",
       "      <td>0.981259</td>\n",
       "    </tr>\n",
       "    <tr>\n",
       "      <th>38</th>\n",
       "      <td>tl_fast1</td>\n",
       "      <td>ethereal-sweep-4</td>\n",
       "      <td>0.980595</td>\n",
       "    </tr>\n",
       "    <tr>\n",
       "      <th>18</th>\n",
       "      <td>tl_best5</td>\n",
       "      <td>logical-sweep-4</td>\n",
       "      <td>0.980402</td>\n",
       "    </tr>\n",
       "    <tr>\n",
       "      <th>32</th>\n",
       "      <td>tl_fast1_aug1</td>\n",
       "      <td>drawn-sweep-3</td>\n",
       "      <td>0.980217</td>\n",
       "    </tr>\n",
       "    <tr>\n",
       "      <th>16</th>\n",
       "      <td>tl_best5</td>\n",
       "      <td>dashing-sweep-2</td>\n",
       "      <td>0.979969</td>\n",
       "    </tr>\n",
       "    <tr>\n",
       "      <th>39</th>\n",
       "      <td>tl_fast1</td>\n",
       "      <td>swift-sweep-5</td>\n",
       "      <td>0.979934</td>\n",
       "    </tr>\n",
       "    <tr>\n",
       "      <th>37</th>\n",
       "      <td>tl_fast1</td>\n",
       "      <td>trim-sweep-3</td>\n",
       "      <td>0.979741</td>\n",
       "    </tr>\n",
       "    <tr>\n",
       "      <th>7</th>\n",
       "      <td>tl_best5_aug2</td>\n",
       "      <td>faithful-sweep-3</td>\n",
       "      <td>0.978725</td>\n",
       "    </tr>\n",
       "    <tr>\n",
       "      <th>9</th>\n",
       "      <td>tl_best5_aug2</td>\n",
       "      <td>tough-sweep-5</td>\n",
       "      <td>0.978502</td>\n",
       "    </tr>\n",
       "  </tbody>\n",
       "</table>\n",
       "</div>"
      ],
      "text/plain": [
       "           config              name  f1_score\n",
       "5   tl_best5_aug2      dark-sweep-1  0.981552\n",
       "20  tl_fast1_aug3     amber-sweep-1  0.981259\n",
       "38       tl_fast1  ethereal-sweep-4  0.980595\n",
       "18       tl_best5   logical-sweep-4  0.980402\n",
       "32  tl_fast1_aug1     drawn-sweep-3  0.980217\n",
       "16       tl_best5   dashing-sweep-2  0.979969\n",
       "39       tl_fast1     swift-sweep-5  0.979934\n",
       "37       tl_fast1      trim-sweep-3  0.979741\n",
       "7   tl_best5_aug2  faithful-sweep-3  0.978725\n",
       "9   tl_best5_aug2     tough-sweep-5  0.978502"
      ]
     },
     "execution_count": 126,
     "metadata": {},
     "output_type": "execute_result"
    }
   ],
   "source": [
    "f1_df.sort_values(by='f1_score', ascending=False).head(10)"
   ]
  },
  {
   "cell_type": "code",
   "execution_count": null,
   "id": "99f5f955-7586-4b82-9f18-e786cf208e2f",
   "metadata": {},
   "outputs": [],
   "source": []
  }
 ],
 "metadata": {
  "kernelspec": {
   "display_name": "Python [conda env:fastai]",
   "language": "python",
   "name": "conda-env-fastai-py"
  },
  "language_info": {
   "codemirror_mode": {
    "name": "ipython",
    "version": 3
   },
   "file_extension": ".py",
   "mimetype": "text/x-python",
   "name": "python",
   "nbconvert_exporter": "python",
   "pygments_lexer": "ipython3",
   "version": "3.9.7"
  }
 },
 "nbformat": 4,
 "nbformat_minor": 5
}
