{
 "cells": [
  {
   "cell_type": "code",
   "execution_count": null,
   "id": "91dd7920-f1fc-4e42-a688-2ffb4deed92c",
   "metadata": {},
   "outputs": [
    {
     "name": "stderr",
     "output_type": "stream",
     "text": [
      "/home/tiago/anaconda3/envs/fastai/lib/python3.9/site-packages/torch/cuda/__init__.py:52: UserWarning: CUDA initialization: Found no NVIDIA driver on your system. Please check that you have an NVIDIA GPU and installed a driver from http://www.nvidia.com/Download/index.aspx (Triggered internally at  /opt/conda/conda-bld/pytorch_1607370151529/work/c10/cuda/CUDAFunctions.cpp:100.)\n",
      "  return torch._C._cuda_getDeviceCount() > 0\n"
     ]
    }
   ],
   "source": [
    "from fastai.basics import *\n",
    "from fastai.vision.all import *"
   ]
  },
  {
   "cell_type": "code",
   "execution_count": null,
   "id": "9682b18c-e56f-407f-a914-e0f5ae9f70da",
   "metadata": {},
   "outputs": [],
   "source": [
    "%load_ext autoreload\n",
    "%autoreload 2"
   ]
  },
  {
   "cell_type": "code",
   "execution_count": null,
   "id": "587e0b75-7227-4a5b-9f28-b641cb5c7f35",
   "metadata": {},
   "outputs": [],
   "source": [
    "from gspy_dset import Data_Glitches"
   ]
  },
  {
   "cell_type": "code",
   "execution_count": null,
   "id": "3eb87e56-7522-4682-bd08-bdba586f6e00",
   "metadata": {},
   "outputs": [],
   "source": [
    "from my_utils import np_to_tensor"
   ]
  },
  {
   "cell_type": "code",
   "execution_count": null,
   "id": "d9c242e8-fc58-4001-8632-7e1ea3d52a01",
   "metadata": {},
   "outputs": [],
   "source": [
    "DATASET_PATH = \"./datasets/Glitches\"\n",
    "device = \"cuda\" if torch.cuda.is_available() else \"cpu\"\n",
    "n_classes = 22\n",
    "view = 'encoded1234'"
   ]
  },
  {
   "cell_type": "code",
   "execution_count": null,
   "id": "aa4ddf4c-1657-4afd-abfd-3afecc540e34",
   "metadata": {},
   "outputs": [],
   "source": [
    "ds = Data_Glitches(dataset_path=DATASET_PATH, data_type=\"train\", view=view, transform=np_to_tensor)\n",
    "ds_val = Data_Glitches(dataset_path=DATASET_PATH, data_type=\"validation\", view=view, transform=np_to_tensor)"
   ]
  },
  {
   "cell_type": "code",
   "execution_count": null,
   "id": "5a3ec1dd-6340-44b4-aa00-e4de7f8479c9",
   "metadata": {},
   "outputs": [],
   "source": [
    "means, stds = torch.zeros(4), torch.zeros(4)\n",
    "for sample in ds:\n",
    "    means += sample[0].mean(dim=[1, 2])\n",
    "    stds += sample[0].std(dim=[1, 2])\n",
    "for sample in ds_val:\n",
    "    means += sample[0].mean(dim=[1, 2])\n",
    "    stds += sample[0].std(dim=[1, 2])"
   ]
  },
  {
   "cell_type": "code",
   "execution_count": null,
   "id": "d360b67c-ea99-44d2-bf24-d7dfd85f5fca",
   "metadata": {},
   "outputs": [],
   "source": [
    "means = means/(len(ds) + len(ds_val))\n",
    "stds = stds/(len(ds) + len(ds_val))"
   ]
  },
  {
   "cell_type": "code",
   "execution_count": null,
   "id": "ab3ce39e-79e4-468e-971f-a40778366932",
   "metadata": {},
   "outputs": [
    {
     "data": {
      "text/plain": [
       "(tensor([0.1783, 0.1644, 0.1513, 0.1418]),\n",
       " tensor([0.1158, 0.1007, 0.0853, 0.0719]))"
      ]
     },
     "execution_count": null,
     "metadata": {},
     "output_type": "execute_result"
    }
   ],
   "source": [
    "means, stds"
   ]
  }
 ],
 "metadata": {
  "kernelspec": {
   "display_name": "Python [conda env:fastai]",
   "language": "python",
   "name": "conda-env-fastai-py"
  }
 },
 "nbformat": 4,
 "nbformat_minor": 5
}
