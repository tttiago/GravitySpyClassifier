{
 "cells": [
  {
   "cell_type": "code",
   "execution_count": null,
   "id": "63c1d4ea-acc2-4334-bce2-9fda0ac6de4e",
   "metadata": {},
   "outputs": [],
   "source": [
    "import pandas as pd"
   ]
  },
  {
   "cell_type": "code",
   "execution_count": null,
   "id": "425766b2-1fc7-40af-8a4b-a907cdf7ff20",
   "metadata": {},
   "outputs": [],
   "source": [
    "import wandb\n",
    "api = wandb.Api()\n",
    "\n",
    "names, losses, weighted_losses, f1_scores = [], [], [], []"
   ]
  },
  {
   "cell_type": "code",
   "execution_count": null,
   "id": "15b67667-e0fd-4f7a-97ae-027d40864020",
   "metadata": {},
   "outputs": [],
   "source": [
    "sweep_ids = ['bk150cyb', 's2x8fbyh', 'jlkrerit']\n",
    "for i, sweep_id in enumerate(sweep_ids):\n",
    "    sweep = api.sweep(f\"ogait/thesis_gravity_spy/{sweep_id}\")\n",
    "    for run in sweep.runs:\n",
    "        names.append(run.name)\n",
    "        losses.append('cross_entropy')\n",
    "        weighted_losses.append(run.config['weighted_loss'])\n",
    "        f1_scores.append(run.summary['f1_score'])"
   ]
  },
  {
   "cell_type": "code",
   "execution_count": null,
   "id": "51564ea3-ee9d-4387-b8cf-cf2a7c171a67",
   "metadata": {},
   "outputs": [],
   "source": [
    "sweep_id = \"m4nqsh6e\"\n",
    "sweep = api.sweep(f\"ogait/thesis_gravity_spy/{sweep_id}\")\n",
    "for run in sweep.runs:\n",
    "    names.append(run.name)\n",
    "    losses.append(\"cross_entropy\")\n",
    "    weighted_losses.append(False)\n",
    "f1_scores += list(pd.read_csv('logs/04_baseline_scratch_corrected_f1.csv')['f1_score'])[::-1]"
   ]
  },
  {
   "cell_type": "code",
   "execution_count": null,
   "id": "4182a1af-2ee9-42b1-bee6-4a00c08f8bbf",
   "metadata": {},
   "outputs": [],
   "source": [
    "sweep_ids = ['mnw5p5b3']\n",
    "for i, sweep_id in enumerate(sweep_ids):\n",
    "    sweep = api.sweep(f\"ogait/thesis_gravity_spy/{sweep_id}\")\n",
    "    for run in sweep.runs:\n",
    "        names.append(run.name)\n",
    "        losses.append('focal')\n",
    "        weighted_losses.append(run.config['weighted_loss'])\n",
    "        f1_scores.append(run.summary['f1_score'])"
   ]
  },
  {
   "cell_type": "code",
   "execution_count": null,
   "id": "3fd511a5-2060-4440-8baf-3d4c35c2527e",
   "metadata": {},
   "outputs": [
    {
     "data": {
      "text/html": [
       "<div>\n",
       "<style scoped>\n",
       "    .dataframe tbody tr th:only-of-type {\n",
       "        vertical-align: middle;\n",
       "    }\n",
       "\n",
       "    .dataframe tbody tr th {\n",
       "        vertical-align: top;\n",
       "    }\n",
       "\n",
       "    .dataframe thead th {\n",
       "        text-align: right;\n",
       "    }\n",
       "</style>\n",
       "<table border=\"1\" class=\"dataframe\">\n",
       "  <thead>\n",
       "    <tr style=\"text-align: right;\">\n",
       "      <th></th>\n",
       "      <th>name</th>\n",
       "      <th>loss_function</th>\n",
       "      <th>weighting_strategy</th>\n",
       "      <th>f1_score</th>\n",
       "    </tr>\n",
       "  </thead>\n",
       "  <tbody>\n",
       "    <tr>\n",
       "      <th>40</th>\n",
       "      <td>rare-sweep-1</td>\n",
       "      <td>cross_entropy</td>\n",
       "      <td>False</td>\n",
       "      <td>0.972910</td>\n",
       "    </tr>\n",
       "    <tr>\n",
       "      <th>41</th>\n",
       "      <td>earthy-sweep-2</td>\n",
       "      <td>cross_entropy</td>\n",
       "      <td>False</td>\n",
       "      <td>0.971245</td>\n",
       "    </tr>\n",
       "    <tr>\n",
       "      <th>42</th>\n",
       "      <td>happy-sweep-3</td>\n",
       "      <td>cross_entropy</td>\n",
       "      <td>False</td>\n",
       "      <td>0.980292</td>\n",
       "    </tr>\n",
       "    <tr>\n",
       "      <th>43</th>\n",
       "      <td>soft-sweep-4</td>\n",
       "      <td>cross_entropy</td>\n",
       "      <td>False</td>\n",
       "      <td>0.979065</td>\n",
       "    </tr>\n",
       "    <tr>\n",
       "      <th>44</th>\n",
       "      <td>fluent-sweep-5</td>\n",
       "      <td>cross_entropy</td>\n",
       "      <td>False</td>\n",
       "      <td>0.974682</td>\n",
       "    </tr>\n",
       "  </tbody>\n",
       "</table>\n",
       "</div>"
      ],
      "text/plain": [
       "              name  loss_function weighting_strategy  f1_score\n",
       "40    rare-sweep-1  cross_entropy              False  0.972910\n",
       "41  earthy-sweep-2  cross_entropy              False  0.971245\n",
       "42   happy-sweep-3  cross_entropy              False  0.980292\n",
       "43    soft-sweep-4  cross_entropy              False  0.979065\n",
       "44  fluent-sweep-5  cross_entropy              False  0.974682"
      ]
     },
     "execution_count": null,
     "metadata": {},
     "output_type": "execute_result"
    }
   ],
   "source": [
    "f1_df = pd.DataFrame(list(zip(names[::-1], losses[::-1], weighted_losses[::-1], f1_scores[::-1])), columns=['name', 'loss_function', 'weighting_strategy', 'f1_score'])\n",
    "f1_df.tail()"
   ]
  },
  {
   "cell_type": "code",
   "execution_count": null,
   "id": "55e89cb7-f6f7-48a9-927c-47717b11142c",
   "metadata": {},
   "outputs": [],
   "source": [
    "f1_df.loc[f1_df['weighting_strategy'] == False, 'weighting_strategy'] = \"none\""
   ]
  },
  {
   "cell_type": "code",
   "execution_count": null,
   "id": "7024b9d3-0676-4300-a4c3-57515cd8a765",
   "metadata": {},
   "outputs": [],
   "source": [
    "f1_df.to_csv('logs/08_compare_focal.csv')"
   ]
  },
  {
   "cell_type": "code",
   "execution_count": null,
   "id": "5bc9ece7-41c8-4230-b8fd-e01b04714416",
   "metadata": {},
   "outputs": [],
   "source": []
  },
  {
   "cell_type": "code",
   "execution_count": null,
   "id": "e5c41d88-3d46-4fae-98c5-2e1134410075",
   "metadata": {},
   "outputs": [],
   "source": []
  },
  {
   "cell_type": "code",
   "execution_count": null,
   "id": "24c538f7-2d84-4811-86ab-1980102b3515",
   "metadata": {},
   "outputs": [],
   "source": [
    "import pandas as pd\n",
    "import seaborn as sns\n",
    "import matplotlib.pyplot as plt"
   ]
  },
  {
   "cell_type": "code",
   "execution_count": null,
   "id": "e4302125-dac1-4be3-92b9-9ce46bc62130",
   "metadata": {},
   "outputs": [],
   "source": [
    "f1_df = pd.read_csv('logs/08_compare_focal.csv')"
   ]
  },
  {
   "cell_type": "code",
   "execution_count": null,
   "id": "ac8381bf-4874-4dde-855c-406356941a87",
   "metadata": {},
   "outputs": [
    {
     "data": {
      "image/png": "[encoded data removed]",
      "text/plain": [
       "<Figure size 864x432 with 2 Axes>"
      ]
     },
     "metadata": {
      "needs_background": "light"
     },
     "output_type": "display_data"
    }
   ],
   "source": [
    "plt.rc('font', size=13)\n",
    "\n",
    "order=['cross_entropy', 'focal']\n",
    "\n",
    "fig, (ax_top, ax_bottom) = plt.subplots(ncols=1, nrows=2, sharex=True, gridspec_kw={'hspace':0.08}, figsize=(12, 6))\n",
    "sns.boxplot(x='loss_function', y='f1_score', hue='weighting_strategy', data=f1_df, order=order,\n",
    "            ax=ax_top\n",
    "            #showmeans=True, meanprops={\"marker\": \"+\", \"markeredgecolor\": \"black\"},\n",
    "            #hue_order=sorted(f1_df['config'].unique()), order=['none', 'inverse', 'effective']\n",
    "           )\n",
    "sns.boxplot(x='loss_function', y='f1_score', hue='weighting_strategy', data=f1_df, order=order,\n",
    "            ax=ax_bottom)\n",
    "ax_top.set_ylim(0.95, 0.99)\n",
    "ax_bottom.set_ylim(top=0.5)\n",
    "\n",
    "sns.despine(ax=ax_bottom, right=False)\n",
    "sns.despine(ax=ax_top, bottom=True, right=False, top=False)\n",
    "\n",
    "ax = ax_top\n",
    "ax.xaxis.set_visible(False)\n",
    "ax.set(ylabel=None)\n",
    "d = .010  # how big to make the diagonal lines in axes coordinates\n",
    "# arguments to pass to plot, just so we don't keep repeating them\n",
    "kwargs = dict(transform=ax.transAxes, color='k', clip_on=False)\n",
    "ax.plot((-d, +d), (-d, +d), **kwargs)        # top-left diagonal\n",
    "ax.plot((-d+1, +d+1), (-d, +d), **kwargs)        # top-left diagonal\n",
    "\n",
    "ax2 = ax_bottom\n",
    "ax2.set(ylabel=None)\n",
    "kwargs.update(transform=ax2.transAxes)  # switch to the bottom axes\n",
    "ax2.plot((-d, +d), (1 - d, 1 + d), **kwargs)  # bottom-left diagonal\n",
    "ax2.plot((-d+1, +d+1), (1 - d, 1 + d), **kwargs) \n",
    "ax2.set_xlabel('loss function', size='large')\n",
    "\n",
    "xlim = [-0.5, 1.5]\n",
    "ax_top.set_xlim(xlim)\n",
    "ax_bottom.set_xlim(xlim)\n",
    "\n",
    "fig.supylabel('f1_score', size='large', x=0.05)\n",
    "\n",
    "#remove one of the legends\n",
    "ax_bottom.legend(title='weighting_strategy', loc='lower left')\n",
    "ax_top.legend_.remove()\n",
    "\n",
    "fig.savefig('../figs/glitches/08_compare_focal_v2.pdf', dpi=600)"
   ]
  },
  {
   "cell_type": "code",
   "execution_count": null,
   "id": "4d72bdde-d80b-46b3-8aad-4c62367956c3",
   "metadata": {},
   "outputs": [
    {
     "data": {
      "image/png": "[encoded data removed]",
      "text/plain": [
       "<Figure size 576x360 with 2 Axes>"
      ]
     },
     "metadata": {
      "needs_background": "light"
     },
     "output_type": "display_data"
    }
   ],
   "source": [
    "order=['cross_entropy', 'focal']\n",
    "\n",
    "fig, (ax_top, ax_bottom) = plt.subplots(ncols=1, nrows=2, sharex=True, gridspec_kw={'hspace':0.08}, figsize=(8, 5))\n",
    "sns.boxplot(x='loss_function', y='f1_score', hue='weighting_strategy', data=f1_df, order=order,\n",
    "            ax=ax_top\n",
    "            #showmeans=True, meanprops={\"marker\": \"+\", \"markeredgecolor\": \"black\"},\n",
    "            #hue_order=sorted(f1_df['config'].unique()), order=['none', 'inverse', 'effective']\n",
    "           )\n",
    "sns.boxplot(x='loss_function', y='f1_score', hue='weighting_strategy', data=f1_df, order=order,\n",
    "            ax=ax_bottom)\n",
    "ax_top.set_ylim(0.95, 0.99)\n",
    "ax_bottom.set_ylim(top=0.5)\n",
    "\n",
    "sns.despine(ax=ax_bottom, right=False)\n",
    "sns.despine(ax=ax_top, bottom=True, right=False, top=False)\n",
    "\n",
    "ax = ax_top\n",
    "ax.xaxis.set_visible(False)\n",
    "ax.set(ylabel=None)\n",
    "d = .010  # how big to make the diagonal lines in axes coordinates\n",
    "# arguments to pass to plot, just so we don't keep repeating them\n",
    "kwargs = dict(transform=ax.transAxes, color='k', clip_on=False)\n",
    "ax.plot((-d, +d), (-d, +d), **kwargs)        # top-left diagonal\n",
    "ax.plot((-d+1, +d+1), (-d, +d), **kwargs)        # top-left diagonal\n",
    "\n",
    "ax2 = ax_bottom\n",
    "ax2.set(ylabel=None)\n",
    "kwargs.update(transform=ax2.transAxes)  # switch to the bottom axes\n",
    "ax2.plot((-d, +d), (1 - d, 1 + d), **kwargs)  # bottom-left diagonal\n",
    "ax2.plot((-d+1, +d+1), (1 - d, 1 + d), **kwargs) \n",
    "ax2.set_xlabel('loss function', size='x-large')\n",
    "\n",
    "fig.supylabel('f1_score', size='x-large')\n",
    "\n",
    "#remove one of the legends\n",
    "ax_bottom.legend(title='weighting_strategy', loc='lower left')\n",
    "ax_top.legend_.remove()\n",
    "\n",
    "fig.savefig('../figs/glitches/08_compare_focal.png', dpi=600)"
   ]
  },
  {
   "cell_type": "code",
   "execution_count": null,
   "id": "23d667b8-79c9-40bd-bacb-2940a7bc3689",
   "metadata": {},
   "outputs": [],
   "source": []
  },
  {
   "cell_type": "code",
   "execution_count": null,
   "id": "96faf11c-e642-4b4c-850d-66027df4a118",
   "metadata": {},
   "outputs": [],
   "source": []
  },
  {
   "cell_type": "code",
   "execution_count": null,
   "id": "21adf116-92a1-4b2d-af88-442c65da59a9",
   "metadata": {},
   "outputs": [],
   "source": []
  }
 ],
 "metadata": {
  "kernelspec": {
   "display_name": "Python [conda env:fastai]",
   "language": "python",
   "name": "conda-env-fastai-py"
  }
 },
 "nbformat": 4,
 "nbformat_minor": 5
}
