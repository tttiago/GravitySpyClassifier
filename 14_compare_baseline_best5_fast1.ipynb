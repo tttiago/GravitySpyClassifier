{
 "cells": [
  {
   "cell_type": "code",
   "execution_count": null,
   "id": "8ba54193-39a4-4a66-94d5-fa697d799770",
   "metadata": {},
   "outputs": [],
   "source": [
    "sweep_ids = ['g1aqz63h', 'otphs2zh', \n",
    "             's45fguzh', '1cesj6eh']\n",
    "config_names = ['tl_fast1', 'tl_fast1', \n",
    "                'tl_best5', 'tl_best5']"
   ]
  },
  {
   "cell_type": "code",
   "execution_count": null,
   "id": "88ee4357-ba35-4195-830d-9ffc12643542",
   "metadata": {},
   "outputs": [],
   "source": [
    "import pandas as pd\n",
    "import wandb\n",
    "api = wandb.Api()"
   ]
  },
  {
   "cell_type": "code",
   "execution_count": null,
   "id": "00fbc649-4fcb-4c5a-8216-de3a1ede1518",
   "metadata": {},
   "outputs": [],
   "source": [
    "metric = 'f1_score'"
   ]
  },
  {
   "cell_type": "code",
   "execution_count": null,
   "id": "21067b5e-dba0-4f68-b5a9-d8f351c31d49",
   "metadata": {},
   "outputs": [],
   "source": [
    "names, configs, f1_scores = [], [], []\n",
    "for i, sweep_id in enumerate(sweep_ids):\n",
    "    sweep = api.sweep(f\"ogait/thesis_gravity_spy/{sweep_id}\")\n",
    "    for run in sweep.runs:\n",
    "        names.append(run.name)\n",
    "        configs.append(config_names[i])\n",
    "        f1_scores.append(run.summary[metric])"
   ]
  },
  {
   "cell_type": "code",
   "execution_count": null,
   "id": "6a328b8b-9453-4924-857f-07d254ff4063",
   "metadata": {},
   "outputs": [],
   "source": [
    "sweep_id = \"m4nqsh6e\"\n",
    "sweep = api.sweep(f\"ogait/thesis_gravity_spy/{sweep_id}\")\n",
    "for run in sweep.runs:\n",
    "    names.append(run.name)\n",
    "    configs.append(\"baseline\")\n",
    "f1_scores += list(pd.read_csv('logs/04_baseline_scratch_corrected_f1.csv')['f1_score'])[::-1]\n",
    "sweep_id = \"bk150cyb\"\n",
    "sweep = api.sweep(f\"ogait/thesis_gravity_spy/{sweep_id}\")\n",
    "for run in sweep.runs:\n",
    "    names.append(run.name)\n",
    "    configs.append(\"baseline\")\n",
    "    f1_scores.append(run.summary[metric])"
   ]
  },
  {
   "cell_type": "code",
   "execution_count": null,
   "id": "7b2b165f-38ef-473b-b344-78a233bc155d",
   "metadata": {},
   "outputs": [
    {
     "data": {
      "text/html": [
       "<div>\n",
       "<style scoped>\n",
       "    .dataframe tbody tr th:only-of-type {\n",
       "        vertical-align: middle;\n",
       "    }\n",
       "\n",
       "    .dataframe tbody tr th {\n",
       "        vertical-align: top;\n",
       "    }\n",
       "\n",
       "    .dataframe thead th {\n",
       "        text-align: right;\n",
       "    }\n",
       "</style>\n",
       "<table border=\"1\" class=\"dataframe\">\n",
       "  <thead>\n",
       "    <tr style=\"text-align: right;\">\n",
       "      <th></th>\n",
       "      <th>config</th>\n",
       "      <th>name</th>\n",
       "      <th>f1_score</th>\n",
       "    </tr>\n",
       "  </thead>\n",
       "  <tbody>\n",
       "    <tr>\n",
       "      <th>25</th>\n",
       "      <td>tl_fast1</td>\n",
       "      <td>devout-sweep-1</td>\n",
       "      <td>0.976330</td>\n",
       "    </tr>\n",
       "    <tr>\n",
       "      <th>26</th>\n",
       "      <td>tl_fast1</td>\n",
       "      <td>curious-sweep-2</td>\n",
       "      <td>0.975395</td>\n",
       "    </tr>\n",
       "    <tr>\n",
       "      <th>27</th>\n",
       "      <td>tl_fast1</td>\n",
       "      <td>trim-sweep-3</td>\n",
       "      <td>0.979741</td>\n",
       "    </tr>\n",
       "    <tr>\n",
       "      <th>28</th>\n",
       "      <td>tl_fast1</td>\n",
       "      <td>ethereal-sweep-4</td>\n",
       "      <td>0.980595</td>\n",
       "    </tr>\n",
       "    <tr>\n",
       "      <th>29</th>\n",
       "      <td>tl_fast1</td>\n",
       "      <td>swift-sweep-5</td>\n",
       "      <td>0.979934</td>\n",
       "    </tr>\n",
       "  </tbody>\n",
       "</table>\n",
       "</div>"
      ],
      "text/plain": [
       "      config              name  f1_score\n",
       "25  tl_fast1    devout-sweep-1  0.976330\n",
       "26  tl_fast1   curious-sweep-2  0.975395\n",
       "27  tl_fast1      trim-sweep-3  0.979741\n",
       "28  tl_fast1  ethereal-sweep-4  0.980595\n",
       "29  tl_fast1     swift-sweep-5  0.979934"
      ]
     },
     "execution_count": null,
     "metadata": {},
     "output_type": "execute_result"
    }
   ],
   "source": [
    "f1_df = pd.DataFrame(list(zip(configs[::-1], names[::-1], f1_scores[::-1])), columns=['config', 'name', metric])\n",
    "f1_df.tail()"
   ]
  },
  {
   "cell_type": "code",
   "execution_count": null,
   "id": "b8fcd844-3a3c-49a7-b71b-f1689037beea",
   "metadata": {},
   "outputs": [],
   "source": []
  },
  {
   "cell_type": "code",
   "execution_count": null,
   "id": "94a65244-1c45-4b2d-b0f8-95ce9b4baac8",
   "metadata": {},
   "outputs": [],
   "source": []
  },
  {
   "cell_type": "code",
   "execution_count": null,
   "id": "78125528-0c92-44dc-8f7c-499f7ebe41d3",
   "metadata": {},
   "outputs": [],
   "source": [
    "import pandas as pd\n",
    "import seaborn as sns\n",
    "import matplotlib.pyplot as plt"
   ]
  },
  {
   "cell_type": "code",
   "execution_count": null,
   "id": "9af5cfc3-4870-4ef0-a2ce-d5a19c2b79f9",
   "metadata": {},
   "outputs": [],
   "source": [
    "sns_colours = sns.color_palette()\n",
    "sns_colours[1], sns_colours[5] = sns_colours[5], sns_colours[1]\n",
    "sns_colours[5], sns_colours[7] = sns_colours[7], sns_colours[5]"
   ]
  },
  {
   "cell_type": "code",
   "execution_count": null,
   "id": "dc1ba8b3-8717-4de0-bc61-d1165010c929",
   "metadata": {},
   "outputs": [
    {
     "data": {
      "image/png": "[encoded data removed]",
      "text/plain": [
       "<Figure size 576x432 with 1 Axes>"
      ]
     },
     "metadata": {
      "needs_background": "light"
     },
     "output_type": "display_data"
    }
   ],
   "source": [
    "fig = plt.figure(figsize=(8, 6))\n",
    "sns.boxplot(x='config', y=metric, data=f1_df, order=sorted(f1_df['config'].unique()), palette=sns_colours)\n",
    "\n",
    "ax = plt.gca()\n",
    "l = ax.get_ylabel()\n",
    "ax.set_ylabel(l, size='x-large')\n",
    "ax.set_xlabel(\"configuration\", size='x-large')\n",
    "plt.xticks(fontsize='large')\n",
    "#ax.set_xticks([])\n",
    "fig.tight_layout()\n",
    "\n",
    "fig.savefig('../figs/glitches/15_baseline_best5_fast1.png', dpi=600)"
   ]
  },
  {
   "cell_type": "code",
   "execution_count": null,
   "id": "2654ff47-c795-4e9d-a0d1-a8ffd0d561b8",
   "metadata": {},
   "outputs": [],
   "source": []
  }
 ],
 "metadata": {
  "kernelspec": {
   "display_name": "Python [conda env:fastai]",
   "language": "python",
   "name": "conda-env-fastai-py"
  }
 },
 "nbformat": 4,
 "nbformat_minor": 5
}
