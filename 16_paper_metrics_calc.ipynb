{
 "cells": [
  {
   "cell_type": "code",
   "execution_count": null,
   "id": "efa3237e-5e8c-490f-bd7c-6c08fd603038",
   "metadata": {},
   "outputs": [],
   "source": [
    "import numpy as np"
   ]
  },
  {
   "cell_type": "code",
   "execution_count": null,
   "id": "288b7f78-3f72-4edd-a636-e7e0b533ce65",
   "metadata": {},
   "outputs": [],
   "source": []
  },
  {
   "cell_type": "markdown",
   "id": "e5835831-a694-4ef5-8b30-475c4ec7b184",
   "metadata": {},
   "source": [
    "### Zevin2017"
   ]
  },
  {
   "cell_type": "code",
   "execution_count": null,
   "id": "1154fe8f-f2ed-47fc-bdaa-8addc3c1e589",
   "metadata": {},
   "outputs": [],
   "source": [
    "recalls = np.array([1, 1, 1, 0.98, 1, 0.99, 0.93, 0.99, 0.92, 0.3, 0.94, 0.5, 1, 0.92, 0.98, 1, 1, 0.96, 0.57, 1])\n",
    "precisions = np.array([1, 0.91, 1, 1, 1, 0.99, 0.74, 0.95, 0.98, 0.38, 0.92, 1, 0.91, 1, 1, 0.91, 0.91, 0.94, 0.85, 0.68])"
   ]
  },
  {
   "cell_type": "code",
   "execution_count": null,
   "id": "1c1bcecc-b3e0-409b-8ae1-72e90e2da517",
   "metadata": {},
   "outputs": [],
   "source": [
    "f1_scores = 2 / (1 / precisions + 1 / recalls)"
   ]
  },
  {
   "cell_type": "code",
   "execution_count": null,
   "id": "370b7b6e-1650-4514-97d2-439004d3c38f",
   "metadata": {},
   "outputs": [
    {
     "data": {
      "text/plain": [
       "0.8928073842472569"
      ]
     },
     "execution_count": null,
     "metadata": {},
     "output_type": "execute_result"
    }
   ],
   "source": [
    "f1_scores.mean()"
   ]
  },
  {
   "cell_type": "code",
   "execution_count": null,
   "id": "c8f69313-a41c-4351-98ba-6bc18dcd6e18",
   "metadata": {},
   "outputs": [],
   "source": []
  },
  {
   "cell_type": "markdown",
   "id": "2c3d2b90-7e89-430a-b5d8-6c2e0e007701",
   "metadata": {},
   "source": [
    "### George2017"
   ]
  },
  {
   "cell_type": "code",
   "execution_count": null,
   "id": "7fb5fd8f-b4b0-4c5d-9da3-fc884d9492e3",
   "metadata": {},
   "outputs": [],
   "source": [
    "precs = np.array([1, 1, 1, 373/374, 1, 91/93, 1, 165/166, 110/112, 131/135, 91/93, 1, 11/12, 1, 1, 56/58, 1, 1, 24/27, 95/97, 1, 1])\n",
    "recs = np.array([1, 1, 1, 373/374, 1, 1, 1, 165/166, 110/115, 131/132, 1, 36/37, 11/18, 1, 1, 56/57, 91/92, 1, 1, 1, 8/9, 60/61])"
   ]
  },
  {
   "cell_type": "code",
   "execution_count": null,
   "id": "aa9b6bcd-d571-4ec0-b358-761a43759dc5",
   "metadata": {},
   "outputs": [
    {
     "data": {
      "text/plain": [
       "0.975988838987401"
      ]
     },
     "execution_count": null,
     "metadata": {},
     "output_type": "execute_result"
    }
   ],
   "source": [
    "f1_scores = 2 / (1 / precs + 1 / recs)\n",
    "f1_scores.mean()"
   ]
  },
  {
   "cell_type": "code",
   "execution_count": null,
   "id": "c276258e-ef48-45fc-abac-0e7dca8c8845",
   "metadata": {},
   "outputs": [],
   "source": []
  }
 ],
 "metadata": {
  "kernelspec": {
   "display_name": "Python [conda env:fastai]",
   "language": "python",
   "name": "conda-env-fastai-py"
  }
 },
 "nbformat": 4,
 "nbformat_minor": 5
}
