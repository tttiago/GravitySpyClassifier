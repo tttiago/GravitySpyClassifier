{
 "cells": [
  {
   "cell_type": "code",
   "execution_count": null,
   "id": "4be5122f",
   "metadata": {},
   "outputs": [
    {
     "name": "stderr",
     "output_type": "stream",
     "text": [
      "/home/tiago/anaconda3/envs/fastai/lib/python3.9/site-packages/torch/cuda/__init__.py:52: UserWarning: CUDA initialization: Found no NVIDIA driver on your system. Please check that you have an NVIDIA GPU and installed a driver from http://www.nvidia.com/Download/index.aspx (Triggered internally at  /opt/conda/conda-bld/pytorch_1607370151529/work/c10/cuda/CUDAFunctions.cpp:100.)\n",
      "  return torch._C._cuda_getDeviceCount() > 0\n"
     ]
    }
   ],
   "source": [
    "import warnings\n",
    "\n",
    "import h5py  # to read the dataset file\n",
    "import matplotlib.colors as mcolors\n",
    "import matplotlib.pyplot as plt\n",
    "import numpy as np\n",
    "import pandas as pd\n",
    "import torch\n",
    "import torch.nn.functional as F\n",
    "import torchvision.transforms as tfms\n",
    "from fastai.basics import *\n",
    "from fastai.vision.all import *\n",
    "from matplotlib.ticker import MaxNLocator  # integer pyplot ticks\n",
    "from sklearn import metrics\n",
    "from torch.utils.data import Dataset\n",
    "from torchvision import models\n",
    "\n",
    "warnings.filterwarnings(\"ignore\")"
   ]
  },
  {
   "cell_type": "code",
   "execution_count": null,
   "id": "7c42f991",
   "metadata": {},
   "outputs": [],
   "source": [
    "%load_ext autoreload\n",
    "%autoreload 2"
   ]
  },
  {
   "cell_type": "markdown",
   "id": "10fd740f-5612-43f1-a088-f7fc2b1371b8",
   "metadata": {},
   "source": [
    "#### Import best run config"
   ]
  },
  {
   "cell_type": "code",
   "execution_count": null,
   "id": "7dc60352",
   "metadata": {},
   "outputs": [
    {
     "name": "stderr",
     "output_type": "stream",
     "text": [
      "\u001b[34m\u001b[1mwandb\u001b[0m: \u001b[33mWARNING\u001b[0m A graphql request initiated by the public wandb API timed out (timeout=9 sec). Create a new API with an integer timeout larger than 9, e.g., `api = wandb.Api(timeout=19)` to increase the graphql timeout.\n",
      "\u001b[34m\u001b[1mwandb\u001b[0m: Sorting runs by -summary_metrics.combined_f1_time\n"
     ]
    }
   ],
   "source": [
    "import wandb\n",
    "\n",
    "api = wandb.Api()\n",
    "\n",
    "sweep_id = \"m4nqsh6e\"\n",
    "sweep = api.sweep(f\"ogait/thesis_gravity_spy/{sweep_id}\")\n",
    "best_run_config = sweep.best_run().config"
   ]
  },
  {
   "cell_type": "markdown",
   "id": "603ed085-520a-4e4f-b2d1-83ce7cde75f4",
   "metadata": {},
   "source": [
    "### Create dataloaders and learner from best params"
   ]
  },
  {
   "cell_type": "code",
   "execution_count": null,
   "id": "ec88980e",
   "metadata": {},
   "outputs": [],
   "source": [
    "from my_utils import dotdict"
   ]
  },
  {
   "cell_type": "code",
   "execution_count": null,
   "id": "37d56981",
   "metadata": {},
   "outputs": [],
   "source": [
    "from model_eval import get_val_preds, plot_CM, plot_CM_PR, plot_top_losses_glitches"
   ]
  },
  {
   "cell_type": "code",
   "execution_count": null,
   "id": "566f39ef",
   "metadata": {},
   "outputs": [],
   "source": [
    "config = dotdict(best_run_config)\n",
    "config.correct_labels = True\n",
    "config.inference = True"
   ]
  },
  {
   "cell_type": "code",
   "execution_count": null,
   "id": "162c656e",
   "metadata": {},
   "outputs": [],
   "source": [
    "from wandb_sweep import get_dls, get_learner"
   ]
  },
  {
   "cell_type": "code",
   "execution_count": null,
   "id": "31fc8ad8",
   "metadata": {},
   "outputs": [],
   "source": [
    "dls, image_size, n_channels = get_dls(config)"
   ]
  },
  {
   "cell_type": "code",
   "execution_count": null,
   "id": "5ea6a175-1c51-43cb-a777-db0f15a66769",
   "metadata": {},
   "outputs": [
    {
     "data": {
      "text/html": [],
      "text/plain": [
       "<IPython.core.display.HTML object>"
      ]
     },
     "metadata": {},
     "output_type": "display_data"
    },
    {
     "data": {
      "text/html": [],
      "text/plain": [
       "<IPython.core.display.HTML object>"
      ]
     },
     "metadata": {},
     "output_type": "display_data"
    },
    {
     "data": {
      "text/html": [],
      "text/plain": [
       "<IPython.core.display.HTML object>"
      ]
     },
     "metadata": {},
     "output_type": "display_data"
    },
    {
     "data": {
      "text/html": [],
      "text/plain": [
       "<IPython.core.display.HTML object>"
      ]
     },
     "metadata": {},
     "output_type": "display_data"
    },
    {
     "data": {
      "text/html": [],
      "text/plain": [
       "<IPython.core.display.HTML object>"
      ]
     },
     "metadata": {},
     "output_type": "display_data"
    }
   ],
   "source": [
    "f1s = []\n",
    "for experiment_no in range(1, 6):\n",
    "    config.experiment_no = experiment_no\n",
    "    learner = get_learner(config, dls, n_channels)\n",
    "    learner.load(f\"{sweep_id}_run{experiment_no}\")\n",
    "    preds, targets, soft_preds, y_true, y_pred = get_val_preds(learner)\n",
    "    f1 = metrics.f1_score(y_true, y_pred, average=\"macro\")\n",
    "    f1s.append(f1)"
   ]
  },
  {
   "cell_type": "code",
   "execution_count": null,
   "id": "d075012b",
   "metadata": {},
   "outputs": [
    {
     "data": {
      "text/plain": [
       "[0.978131747307589,\n",
       " 0.9674986643035829,\n",
       " 0.9807122865951761,\n",
       " 0.968429297920833,\n",
       " 0.9702511995105525]"
      ]
     },
     "execution_count": null,
     "metadata": {},
     "output_type": "execute_result"
    }
   ],
   "source": [
    "f1s"
   ]
  },
  {
   "cell_type": "code",
   "execution_count": null,
   "id": "a6eb1391-6c91-4edb-b286-7e3f42bfaf88",
   "metadata": {},
   "outputs": [],
   "source": [
    "names = [f'run {i}' for i in range(1, 6)]"
   ]
  },
  {
   "cell_type": "markdown",
   "id": "d8eecc21-757d-4965-b76b-90940fad5a04",
   "metadata": {},
   "source": [
    "#### Plot F1 scores from the five runs"
   ]
  },
  {
   "cell_type": "code",
   "execution_count": null,
   "id": "745846f1-eb5f-4658-a2d8-cf4353f80d05",
   "metadata": {},
   "outputs": [],
   "source": [
    "import pandas as pd\n",
    "import seaborn as sns\n",
    "import matplotlib.pyplot as plt"
   ]
  },
  {
   "cell_type": "code",
   "execution_count": null,
   "id": "0d8a9be6-6b7b-4957-9019-68cc4183a24b",
   "metadata": {},
   "outputs": [],
   "source": [
    "f1_df = pd.DataFrame(list(zip(names, f1s)), columns=['name', 'f1_score'])"
   ]
  },
  {
   "cell_type": "code",
   "execution_count": null,
   "id": "80296352-d570-4074-9b94-d79261f2941e",
   "metadata": {},
   "outputs": [
    {
     "data": {
      "image/png": "[encoded data removed]",
      "text/plain": [
       "<Figure size 216x432 with 1 Axes>"
      ]
     },
     "metadata": {
      "needs_background": "light"
     },
     "output_type": "display_data"
    }
   ],
   "source": [
    "fig = plt.figure(figsize=(3, 6))\n",
    "sns.boxplot(y='f1_score', data=f1_df, whis=10)\n",
    "#plt.ylim([0.958, 0.976])\n",
    "ax = plt.gca()\n",
    "l = ax.get_ylabel()\n",
    "ax.set_ylabel(l, size='x-large')\n",
    "ax.set_xticks([])\n",
    "fig.tight_layout()\n",
    "\n",
    "#fig.savefig('../figs/glitches/04_baseline_f1scores.png', dpi=300)"
   ]
  },
  {
   "cell_type": "code",
   "execution_count": null,
   "id": "25c0dd2f-d514-41b0-86dc-592ed7e0c069",
   "metadata": {},
   "outputs": [
    {
     "data": {
      "text/html": [
       "<div>\n",
       "<style scoped>\n",
       "    .dataframe tbody tr th:only-of-type {\n",
       "        vertical-align: middle;\n",
       "    }\n",
       "\n",
       "    .dataframe tbody tr th {\n",
       "        vertical-align: top;\n",
       "    }\n",
       "\n",
       "    .dataframe thead th {\n",
       "        text-align: right;\n",
       "    }\n",
       "</style>\n",
       "<table border=\"1\" class=\"dataframe\">\n",
       "  <thead>\n",
       "    <tr style=\"text-align: right;\">\n",
       "      <th></th>\n",
       "      <th>name</th>\n",
       "      <th>f1_score</th>\n",
       "    </tr>\n",
       "  </thead>\n",
       "  <tbody>\n",
       "    <tr>\n",
       "      <th>2</th>\n",
       "      <td>run 3</td>\n",
       "      <td>0.980712</td>\n",
       "    </tr>\n",
       "    <tr>\n",
       "      <th>0</th>\n",
       "      <td>run 1</td>\n",
       "      <td>0.978132</td>\n",
       "    </tr>\n",
       "    <tr>\n",
       "      <th>4</th>\n",
       "      <td>run 5</td>\n",
       "      <td>0.970251</td>\n",
       "    </tr>\n",
       "    <tr>\n",
       "      <th>3</th>\n",
       "      <td>run 4</td>\n",
       "      <td>0.968429</td>\n",
       "    </tr>\n",
       "    <tr>\n",
       "      <th>1</th>\n",
       "      <td>run 2</td>\n",
       "      <td>0.967499</td>\n",
       "    </tr>\n",
       "  </tbody>\n",
       "</table>\n",
       "</div>"
      ],
      "text/plain": [
       "    name  f1_score\n",
       "2  run 3  0.980712\n",
       "0  run 1  0.978132\n",
       "4  run 5  0.970251\n",
       "3  run 4  0.968429\n",
       "1  run 2  0.967499"
      ]
     },
     "execution_count": null,
     "metadata": {},
     "output_type": "execute_result"
    }
   ],
   "source": [
    "f1_df.sort_values('f1_score', ascending=False)"
   ]
  },
  {
   "cell_type": "code",
   "execution_count": null,
   "id": "ed3ae38c-9a5c-48ae-9a1c-5ab20140a9f9",
   "metadata": {},
   "outputs": [],
   "source": [
    "f1_df.to_csv('logs/04_baseline_scratch_corrected_f1.csv')"
   ]
  },
  {
   "cell_type": "code",
   "execution_count": null,
   "id": "97602b1b-0f45-4bf9-ae8a-aa47bf3b2a87",
   "metadata": {},
   "outputs": [],
   "source": []
  }
 ],
 "metadata": {
  "kernelspec": {
   "display_name": "Python [conda env:fastai]",
   "language": "python",
   "name": "conda-env-fastai-py"
  }
 },
 "nbformat": 4,
 "nbformat_minor": 5
}
