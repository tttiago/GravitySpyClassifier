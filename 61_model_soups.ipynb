{
 "cells": [
  {
   "cell_type": "markdown",
   "id": "7f873646-f3fb-4c84-8b5a-262e042980ca",
   "metadata": {},
   "source": [
    "Model soups: averaging weights of multiple fine-tuned models improves accuracy without increasing inference time  \n",
    "https://arxiv.org/abs/2203.05482"
   ]
  },
  {
   "cell_type": "code",
   "execution_count": null,
   "id": "91d30194-c03d-4a50-98b7-6f068707e13e",
   "metadata": {},
   "outputs": [],
   "source": []
  },
  {
   "cell_type": "code",
   "execution_count": null,
   "id": "4be5122f",
   "metadata": {},
   "outputs": [
    {
     "name": "stderr",
     "output_type": "stream",
     "text": [
      "/home/tiago/anaconda3/envs/fastai/lib/python3.9/site-packages/torch/cuda/__init__.py:52: UserWarning: CUDA initialization: Found no NVIDIA driver on your system. Please check that you have an NVIDIA GPU and installed a driver from http://www.nvidia.com/Download/index.aspx (Triggered internally at  /opt/conda/conda-bld/pytorch_1607370151529/work/c10/cuda/CUDAFunctions.cpp:100.)\n",
      "  return torch._C._cuda_getDeviceCount() > 0\n"
     ]
    }
   ],
   "source": [
    "from fastai.basics import *\n",
    "from fastai.vision.all import *\n",
    "from sklearn import metrics"
   ]
  },
  {
   "cell_type": "code",
   "execution_count": null,
   "id": "ec88980e",
   "metadata": {},
   "outputs": [],
   "source": [
    "from my_utils import dotdict"
   ]
  },
  {
   "cell_type": "code",
   "execution_count": null,
   "id": "162c656e",
   "metadata": {},
   "outputs": [],
   "source": [
    "from wandb_sweep import get_dls, get_learner"
   ]
  },
  {
   "cell_type": "code",
   "execution_count": null,
   "id": "37d56981",
   "metadata": {},
   "outputs": [],
   "source": [
    "from model_eval import get_val_preds, plot_CM, plot_CM_PR, plot_top_losses_glitches"
   ]
  },
  {
   "cell_type": "code",
   "execution_count": null,
   "id": "8502bae5-6c00-4802-b8dc-17c1f4d68c34",
   "metadata": {},
   "outputs": [],
   "source": [
    "import wandb\n",
    "\n",
    "api = wandb.Api()"
   ]
  },
  {
   "cell_type": "code",
   "execution_count": null,
   "id": "8be0d331-1891-4043-b219-0133cc855e4d",
   "metadata": {},
   "outputs": [],
   "source": []
  },
  {
   "cell_type": "code",
   "execution_count": null,
   "id": "4b29fb0d-9907-456e-970d-22ba76185887",
   "metadata": {},
   "outputs": [],
   "source": [
    "def get_learners(config, sweep_ids):\n",
    "    learners, f1_scores = [], []\n",
    "    for sweep_id in sweep_ids:\n",
    "        sweep = api.sweep(f\"ogait/thesis_gravity_spy/{sweep_id}\")\n",
    "        best_run_config = sweep.best_run().config\n",
    "        learners.append(get_learner(config, dls, n_channels))\n",
    "        learners[-1].load(f\"{sweep_id}_run{best_run_config['experiment_no']}\")\n",
    "        f1_scores.append(sweep.best_run().summary['f1_score'])\n",
    "    return learners, f1_scores"
   ]
  },
  {
   "cell_type": "code",
   "execution_count": null,
   "id": "bde22ab5-1d16-4432-b032-92bff0a49ee8",
   "metadata": {},
   "outputs": [],
   "source": [
    "def get_uniform_soup_weights(learners):\n",
    "    model_keys = learners[0].model.state_dict().keys()\n",
    "    average_model_dict = dict()\n",
    "\n",
    "    for key in model_keys:\n",
    "        average_model_dict[key] = torch.stack([learner.model.state_dict()[key] for learner in learners]).mean(dim=[0])\n",
    "    return average_model_dict"
   ]
  },
  {
   "cell_type": "code",
   "execution_count": null,
   "id": "b943da35-95cd-4ef6-a3c2-38327f375eac",
   "metadata": {},
   "outputs": [],
   "source": [
    "def evaluate_model(model_dict):\n",
    "    learner = get_learner(config, dls, n_channels)\n",
    "    learner.model.load_state_dict(model_dict)\n",
    "    preds, targets, soft_preds, y_true, y_pred = get_val_preds(learner)\n",
    "    acc = metrics.accuracy_score(y_true, y_pred) \n",
    "    f1 = metrics.f1_score(y_true, y_pred, average=\"macro\")\n",
    "    \n",
    "    return acc, f1"
   ]
  },
  {
   "cell_type": "code",
   "execution_count": null,
   "id": "b395d88c-afc8-4deb-98c7-d04e5bc27742",
   "metadata": {},
   "outputs": [],
   "source": []
  },
  {
   "cell_type": "code",
   "execution_count": null,
   "id": "3419ef02-7ba0-439e-8120-b519252cc29d",
   "metadata": {},
   "outputs": [],
   "source": []
  },
  {
   "cell_type": "code",
   "execution_count": null,
   "id": "6b68fb6e-9a2c-499b-97fa-5defaef436c6",
   "metadata": {},
   "outputs": [
    {
     "name": "stderr",
     "output_type": "stream",
     "text": [
      "\u001b[34m\u001b[1mwandb\u001b[0m: Sorting runs by -summary_metrics.combined_f1_time\n"
     ]
    }
   ],
   "source": [
    "sweep_id = \"1cesj6eh\"\n",
    "sweep = api.sweep(f\"ogait/thesis_gravity_spy/{sweep_id}\")\n",
    "best_run_config = sweep.best_run().config\n",
    "config = dotdict(best_run_config)\n",
    "config.correct_labels = True\n",
    "config.inference = True\n",
    "config.test_evaluation = False\n",
    "\n",
    "dls, _, n_channels = get_dls(config)\n",
    "learner = get_learner(config, dls, n_channels)"
   ]
  },
  {
   "cell_type": "code",
   "execution_count": null,
   "id": "984bd965-4c3b-423e-a9e3-49d18c460e63",
   "metadata": {},
   "outputs": [],
   "source": [
    "sweep_ids = ['1cesj6eh', 's45fguzh', 'g1aqz63h', 'ire6sash', 'otphs2zh']"
   ]
  },
  {
   "cell_type": "code",
   "execution_count": null,
   "id": "87bab0f2-2d02-4f0f-8d22-f39aaf2f9aa2",
   "metadata": {},
   "outputs": [
    {
     "name": "stderr",
     "output_type": "stream",
     "text": [
      "\u001b[34m\u001b[1mwandb\u001b[0m: Sorting runs by -summary_metrics.combined_f1_time\n",
      "\u001b[34m\u001b[1mwandb\u001b[0m: Sorting runs by -summary_metrics.combined_f1_time\n"
     ]
    },
    {
     "name": "stdout",
     "output_type": "stream",
     "text": [
      "1cesj6eh_run1\n"
     ]
    },
    {
     "name": "stderr",
     "output_type": "stream",
     "text": [
      "\u001b[34m\u001b[1mwandb\u001b[0m: Sorting runs by -summary_metrics.combined_f1_time\n"
     ]
    },
    {
     "name": "stdout",
     "output_type": "stream",
     "text": [
      "s45fguzh_run4\n"
     ]
    },
    {
     "name": "stderr",
     "output_type": "stream",
     "text": [
      "\u001b[34m\u001b[1mwandb\u001b[0m: Sorting runs by -summary_metrics.combined_f1_time\n"
     ]
    },
    {
     "name": "stdout",
     "output_type": "stream",
     "text": [
      "g1aqz63h_run4\n"
     ]
    },
    {
     "name": "stderr",
     "output_type": "stream",
     "text": [
      "\u001b[34m\u001b[1mwandb\u001b[0m: Sorting runs by -summary_metrics.combined_f1_time\n"
     ]
    },
    {
     "name": "stdout",
     "output_type": "stream",
     "text": [
      "ire6sash_run5\n",
      "otphs2zh_run5\n"
     ]
    }
   ],
   "source": [
    "for sweep_id in sweep_ids:\n",
    "    sweep = api.sweep(f\"ogait/thesis_gravity_spy/{sweep_id}\")\n",
    "    best_run_config = sweep.best_run().config\n",
    "    print(f\"{sweep_id}_run{best_run_config['experiment_no']}\")"
   ]
  },
  {
   "cell_type": "markdown",
   "id": "e9db3235-195a-4e7f-aed8-1593c50bd853",
   "metadata": {},
   "source": [
    "### Uniform soup"
   ]
  },
  {
   "cell_type": "code",
   "execution_count": null,
   "id": "4defbe77-879c-4785-a3fe-5b2509e48d08",
   "metadata": {},
   "outputs": [],
   "source": [
    "accs, f1s = [], []\n",
    "for n_models in range(1, len(sweep_ids)+1):\n",
    "    learners, _ = get_learners(config, sweep_ids[:n_models])\n",
    "    average_model_dict = get_uniform_soup_weights(learners)\n",
    "    acc, f1 = evaluate_model(average_model_dict)\n",
    "    accs.append(acc)\n",
    "    f1s.append(f1)"
   ]
  },
  {
   "cell_type": "code",
   "execution_count": null,
   "id": "a6b1204d-f0d6-4457-b238-fff228c57bb9",
   "metadata": {},
   "outputs": [
    {
     "data": {
      "text/plain": [
       "[<matplotlib.lines.Line2D>]"
      ]
     },
     "execution_count": null,
     "metadata": {},
     "output_type": "execute_result"
    },
    {
     "data": {
      "image/png": "[encoded data removed]",
      "text/plain": [
       "<Figure size 432x288 with 1 Axes>"
      ]
     },
     "metadata": {
      "needs_background": "light"
     },
     "output_type": "display_data"
    }
   ],
   "source": [
    "plt.plot(f1s)"
   ]
  },
  {
   "cell_type": "markdown",
   "id": "a9a57287-b95e-4fbb-9517-36ba89024d42",
   "metadata": {},
   "source": [
    "### Greedy soup"
   ]
  },
  {
   "cell_type": "code",
   "execution_count": null,
   "id": "dda1ed99-dcb4-4e7b-a429-6067ad63d01a",
   "metadata": {},
   "outputs": [],
   "source": [
    "def get_f1s_from_fnames(fnames):\n",
    "    f1_scores = []\n",
    "    for fname in fnames:\n",
    "        sweep_id = fname.split('_')[0]\n",
    "        run_no = int(fname.split('run')[1].split('.')[0])\n",
    "        sweep = api.sweep(f\"ogait/thesis_gravity_spy/{sweep_id}\")\n",
    "        for run in sweep.runs:\n",
    "            if run.config['experiment_no'] == run_no:\n",
    "                f1_scores.append(run.summary['f1_score'])\n",
    "                break\n",
    "    return f1_scores"
   ]
  },
  {
   "cell_type": "code",
   "execution_count": null,
   "id": "dc805467-8b2b-4a5f-9a31-303a60c413bf",
   "metadata": {},
   "outputs": [],
   "source": [
    "from tqdm.notebook import tqdm\n",
    "\n",
    "def get_greedy_soup_weights(fnames, f1_scores):\n",
    "    sorted_fnames = sorted(zip(fnames, f1_scores), key=lambda x: x[1], reverse=True)\n",
    "    \n",
    "    fname = sorted_fnames[0][0]\n",
    "    sweep_id = fname.split('_')[0]\n",
    "    run_no = int(fname.split('run')[1].split('.')[0])\n",
    "    learner1 = get_learner(config, dls, n_channels)\n",
    "    learner2 = get_learner(config, dls, n_channels)\n",
    "    learner1.load(f\"{sweep_id}_run{run_no}\")\n",
    "    model_keys = learner1.model.state_dict().keys()\n",
    "    \n",
    "    greedy_soup_dict = learner1.model.state_dict()\n",
    "    best_f1 = sorted_fnames[0][1]\n",
    "    print(f'Model no. 0 ({fname}) added to greedy soup. \\nBase F1 score: {best_f1:.5f}')\n",
    "        \n",
    "    for model_no in tqdm(range(1, len(sorted_fnames))):\n",
    "        candidate_soup_dict = dict()\n",
    "        \n",
    "        fname = sorted_fnames[model_no][0]\n",
    "        sweep_id = fname.split('_')[0]\n",
    "        run_no = int(fname.split('run')[1].split('.')[0])\n",
    "        \n",
    "        learner2.load(f\"{sweep_id}_run{run_no}\")\n",
    "        candidate_model_dict = learner2.model.state_dict()\n",
    "        \n",
    "        for key in model_keys:\n",
    "            candidate_soup_dict[key] = (greedy_soup_dict[key] + candidate_model_dict[key]) / 2.\n",
    "        \n",
    "        _, f1 = evaluate_model(candidate_soup_dict)\n",
    "        if f1 >= best_f1:\n",
    "            best_f1 = f1\n",
    "            print(f'Model no. {model_no} ({fname}) added to greedy soup. \\nNew F1 score: {best_f1:.5f}')\n",
    "            greedy_soup_dict = candidate_soup_dict\n",
    "        else:\n",
    "            print(f'Model no. {model_no} not added due to lower F1: {f1:.5f}')\n",
    "            \n",
    "    return greedy_soup_dict"
   ]
  },
  {
   "cell_type": "code",
   "execution_count": null,
   "id": "3eb420b8-1b05-436a-b376-76e6ff32b4a7",
   "metadata": {},
   "outputs": [],
   "source": []
  },
  {
   "cell_type": "code",
   "execution_count": null,
   "id": "e71a0df6-0c4e-43af-8044-1a4ad64a7952",
   "metadata": {},
   "outputs": [],
   "source": []
  },
  {
   "cell_type": "code",
   "execution_count": null,
   "id": "d0a5bfec-bc1d-4c14-b153-c56bbf6c4f75",
   "metadata": {},
   "outputs": [],
   "source": [
    "sweep_begins = ['1ces', '2tw', '9x92', 'g1aq', 'g31', 'gjnv', 'ire', 'kno', 'otp', 's45', 'zcg']"
   ]
  },
  {
   "cell_type": "code",
   "execution_count": null,
   "id": "5071c2b4-5fc2-4d98-87ec-645fbeda93ef",
   "metadata": {},
   "outputs": [],
   "source": [
    "fnames = []\n",
    "for file in glob.glob('./models/*.pth'):\n",
    "    for sweep_begin in sweep_begins:\n",
    "        if (fname :=file.split('/')[-1]).startswith(sweep_begin):\n",
    "             fnames.append(fname)"
   ]
  },
  {
   "cell_type": "code",
   "execution_count": null,
   "id": "546e4a45-9f55-4c6e-af5e-e115638fd8d6",
   "metadata": {},
   "outputs": [],
   "source": [
    "f1_scores = get_f1s_from_fnames(fnames)"
   ]
  },
  {
   "cell_type": "code",
   "execution_count": null,
   "id": "0c07630b-5b45-4dd2-bbcf-5ff1ab55bf70",
   "metadata": {},
   "outputs": [
    {
     "name": "stderr",
     "output_type": "stream",
     "text": [
      "\u001b[34m\u001b[1mwandb\u001b[0m: Sorting runs by -summary_metrics.combined_f1_time\n"
     ]
    }
   ],
   "source": [
    "sweep_id = \"1cesj6eh\"\n",
    "sweep = api.sweep(f\"ogait/thesis_gravity_spy/{sweep_id}\")\n",
    "best_run_config = sweep.best_run().config\n",
    "config = dotdict(best_run_config)\n",
    "config.correct_labels = True\n",
    "config.inference = True\n",
    "config.test_evaluation = False\n",
    "\n",
    "dls, _, n_channels = get_dls(config)"
   ]
  },
  {
   "cell_type": "code",
   "execution_count": null,
   "id": "24a46664-ba3b-4a0b-9ae2-6a57619198c5",
   "metadata": {},
   "outputs": [
    {
     "name": "stdout",
     "output_type": "stream",
     "text": [
      "Model no. 0 (1cesj6eh_run1.pth) added to greedy soup. \n",
      "Base F1 score: 0.98210\n"
     ]
    },
    {
     "data": {
      "application/vnd.jupyter.widget-view+json": {
       "model_id": "94fd821f31d344e681a9242c0051e548",
       "version_major": 2,
       "version_minor": 0
      },
      "text/plain": [
       "  0%|          | 0/50 [00:00<?, ?it/s]"
      ]
     },
     "metadata": {},
     "output_type": "display_data"
    },
    {
     "data": {
      "text/html": [],
      "text/plain": [
       "<IPython.core.display.HTML object>"
      ]
     },
     "metadata": {},
     "output_type": "display_data"
    },
    {
     "name": "stdout",
     "output_type": "stream",
     "text": [
      "Model no. 1 not added due to lower F1: 0.97051\n"
     ]
    },
    {
     "data": {
      "text/html": [],
      "text/plain": [
       "<IPython.core.display.HTML object>"
      ]
     },
     "metadata": {},
     "output_type": "display_data"
    },
    {
     "name": "stdout",
     "output_type": "stream",
     "text": [
      "Model no. 2 not added due to lower F1: 0.96949\n"
     ]
    },
    {
     "data": {
      "text/html": [],
      "text/plain": [
       "<IPython.core.display.HTML object>"
      ]
     },
     "metadata": {},
     "output_type": "display_data"
    },
    {
     "name": "stdout",
     "output_type": "stream",
     "text": [
      "Model no. 3 not added due to lower F1: 0.97887\n"
     ]
    },
    {
     "data": {
      "text/html": [],
      "text/plain": [
       "<IPython.core.display.HTML object>"
      ]
     },
     "metadata": {},
     "output_type": "display_data"
    },
    {
     "name": "stdout",
     "output_type": "stream",
     "text": [
      "Model no. 4 not added due to lower F1: 0.97989\n"
     ]
    },
    {
     "data": {
      "text/html": [],
      "text/plain": [
       "<IPython.core.display.HTML object>"
      ]
     },
     "metadata": {},
     "output_type": "display_data"
    },
    {
     "name": "stdout",
     "output_type": "stream",
     "text": [
      "Model no. 5 not added due to lower F1: 0.95855\n"
     ]
    },
    {
     "data": {
      "text/html": [],
      "text/plain": [
       "<IPython.core.display.HTML object>"
      ]
     },
     "metadata": {},
     "output_type": "display_data"
    },
    {
     "name": "stdout",
     "output_type": "stream",
     "text": [
      "Model no. 6 not added due to lower F1: 0.96374\n"
     ]
    },
    {
     "data": {
      "text/html": [],
      "text/plain": [
       "<IPython.core.display.HTML object>"
      ]
     },
     "metadata": {},
     "output_type": "display_data"
    },
    {
     "name": "stdout",
     "output_type": "stream",
     "text": [
      "Model no. 7 not added due to lower F1: 0.96700\n"
     ]
    },
    {
     "data": {
      "text/html": [],
      "text/plain": [
       "<IPython.core.display.HTML object>"
      ]
     },
     "metadata": {},
     "output_type": "display_data"
    },
    {
     "name": "stdout",
     "output_type": "stream",
     "text": [
      "Model no. 8 not added due to lower F1: 0.96955\n"
     ]
    },
    {
     "data": {
      "text/html": [],
      "text/plain": [
       "<IPython.core.display.HTML object>"
      ]
     },
     "metadata": {},
     "output_type": "display_data"
    },
    {
     "name": "stdout",
     "output_type": "stream",
     "text": [
      "Model no. 9 not added due to lower F1: 0.97561\n"
     ]
    },
    {
     "data": {
      "text/html": [],
      "text/plain": [
       "<IPython.core.display.HTML object>"
      ]
     },
     "metadata": {},
     "output_type": "display_data"
    },
    {
     "name": "stdout",
     "output_type": "stream",
     "text": [
      "Model no. 10 not added due to lower F1: 0.94986\n"
     ]
    },
    {
     "data": {
      "text/html": [],
      "text/plain": [
       "<IPython.core.display.HTML object>"
      ]
     },
     "metadata": {},
     "output_type": "display_data"
    },
    {
     "name": "stdout",
     "output_type": "stream",
     "text": [
      "Model no. 11 not added due to lower F1: 0.96192\n"
     ]
    },
    {
     "data": {
      "text/html": [],
      "text/plain": [
       "<IPython.core.display.HTML object>"
      ]
     },
     "metadata": {},
     "output_type": "display_data"
    },
    {
     "name": "stdout",
     "output_type": "stream",
     "text": [
      "Model no. 12 not added due to lower F1: 0.97416\n"
     ]
    },
    {
     "data": {
      "text/html": [],
      "text/plain": [
       "<IPython.core.display.HTML object>"
      ]
     },
     "metadata": {},
     "output_type": "display_data"
    },
    {
     "name": "stdout",
     "output_type": "stream",
     "text": [
      "Model no. 13 not added due to lower F1: 0.97271\n"
     ]
    },
    {
     "data": {
      "text/html": [],
      "text/plain": [
       "<IPython.core.display.HTML object>"
      ]
     },
     "metadata": {},
     "output_type": "display_data"
    },
    {
     "name": "stdout",
     "output_type": "stream",
     "text": [
      "Model no. 14 not added due to lower F1: 0.97829\n"
     ]
    },
    {
     "data": {
      "text/html": [],
      "text/plain": [
       "<IPython.core.display.HTML object>"
      ]
     },
     "metadata": {},
     "output_type": "display_data"
    },
    {
     "name": "stdout",
     "output_type": "stream",
     "text": [
      "Model no. 15 not added due to lower F1: 0.97137\n"
     ]
    },
    {
     "data": {
      "text/html": [],
      "text/plain": [
       "<IPython.core.display.HTML object>"
      ]
     },
     "metadata": {},
     "output_type": "display_data"
    },
    {
     "name": "stdout",
     "output_type": "stream",
     "text": [
      "Model no. 16 not added due to lower F1: 0.97475\n"
     ]
    },
    {
     "data": {
      "text/html": [],
      "text/plain": [
       "<IPython.core.display.HTML object>"
      ]
     },
     "metadata": {},
     "output_type": "display_data"
    },
    {
     "name": "stdout",
     "output_type": "stream",
     "text": [
      "Model no. 17 not added due to lower F1: 0.97195\n"
     ]
    },
    {
     "data": {
      "text/html": [],
      "text/plain": [
       "<IPython.core.display.HTML object>"
      ]
     },
     "metadata": {},
     "output_type": "display_data"
    },
    {
     "name": "stdout",
     "output_type": "stream",
     "text": [
      "Model no. 18 not added due to lower F1: 0.97589\n"
     ]
    },
    {
     "data": {
      "text/html": [],
      "text/plain": [
       "<IPython.core.display.HTML object>"
      ]
     },
     "metadata": {},
     "output_type": "display_data"
    },
    {
     "name": "stdout",
     "output_type": "stream",
     "text": [
      "Model no. 19 not added due to lower F1: 0.96627\n"
     ]
    },
    {
     "data": {
      "text/html": [],
      "text/plain": [
       "<IPython.core.display.HTML object>"
      ]
     },
     "metadata": {},
     "output_type": "display_data"
    },
    {
     "name": "stdout",
     "output_type": "stream",
     "text": [
      "Model no. 20 not added due to lower F1: 0.96873\n"
     ]
    },
    {
     "data": {
      "text/html": [],
      "text/plain": [
       "<IPython.core.display.HTML object>"
      ]
     },
     "metadata": {},
     "output_type": "display_data"
    },
    {
     "name": "stdout",
     "output_type": "stream",
     "text": [
      "Model no. 21 not added due to lower F1: 0.97174\n"
     ]
    },
    {
     "data": {
      "text/html": [],
      "text/plain": [
       "<IPython.core.display.HTML object>"
      ]
     },
     "metadata": {},
     "output_type": "display_data"
    },
    {
     "name": "stdout",
     "output_type": "stream",
     "text": [
      "Model no. 22 not added due to lower F1: 0.96888\n"
     ]
    },
    {
     "data": {
      "text/html": [],
      "text/plain": [
       "<IPython.core.display.HTML object>"
      ]
     },
     "metadata": {},
     "output_type": "display_data"
    },
    {
     "name": "stdout",
     "output_type": "stream",
     "text": [
      "Model no. 23 not added due to lower F1: 0.97398\n"
     ]
    },
    {
     "data": {
      "text/html": [],
      "text/plain": [
       "<IPython.core.display.HTML object>"
      ]
     },
     "metadata": {},
     "output_type": "display_data"
    },
    {
     "name": "stdout",
     "output_type": "stream",
     "text": [
      "Model no. 24 not added due to lower F1: 0.96628\n"
     ]
    },
    {
     "data": {
      "text/html": [],
      "text/plain": [
       "<IPython.core.display.HTML object>"
      ]
     },
     "metadata": {},
     "output_type": "display_data"
    },
    {
     "name": "stdout",
     "output_type": "stream",
     "text": [
      "Model no. 25 not added due to lower F1: 0.96494\n"
     ]
    },
    {
     "data": {
      "text/html": [],
      "text/plain": [
       "<IPython.core.display.HTML object>"
      ]
     },
     "metadata": {},
     "output_type": "display_data"
    },
    {
     "name": "stdout",
     "output_type": "stream",
     "text": [
      "Model no. 26 not added due to lower F1: 0.96562\n"
     ]
    },
    {
     "data": {
      "text/html": [],
      "text/plain": [
       "<IPython.core.display.HTML object>"
      ]
     },
     "metadata": {},
     "output_type": "display_data"
    },
    {
     "name": "stdout",
     "output_type": "stream",
     "text": [
      "Model no. 27 not added due to lower F1: 0.97018\n"
     ]
    },
    {
     "data": {
      "text/html": [],
      "text/plain": [
       "<IPython.core.display.HTML object>"
      ]
     },
     "metadata": {},
     "output_type": "display_data"
    },
    {
     "name": "stdout",
     "output_type": "stream",
     "text": [
      "Model no. 28 not added due to lower F1: 0.96352\n"
     ]
    },
    {
     "data": {
      "text/html": [],
      "text/plain": [
       "<IPython.core.display.HTML object>"
      ]
     },
     "metadata": {},
     "output_type": "display_data"
    },
    {
     "name": "stdout",
     "output_type": "stream",
     "text": [
      "Model no. 29 not added due to lower F1: 0.96958\n"
     ]
    },
    {
     "data": {
      "text/html": [],
      "text/plain": [
       "<IPython.core.display.HTML object>"
      ]
     },
     "metadata": {},
     "output_type": "display_data"
    },
    {
     "name": "stdout",
     "output_type": "stream",
     "text": [
      "Model no. 30 not added due to lower F1: 0.96568\n"
     ]
    },
    {
     "data": {
      "text/html": [],
      "text/plain": [
       "<IPython.core.display.HTML object>"
      ]
     },
     "metadata": {},
     "output_type": "display_data"
    },
    {
     "name": "stdout",
     "output_type": "stream",
     "text": [
      "Model no. 31 not added due to lower F1: 0.96417\n"
     ]
    },
    {
     "data": {
      "text/html": [],
      "text/plain": [
       "<IPython.core.display.HTML object>"
      ]
     },
     "metadata": {},
     "output_type": "display_data"
    },
    {
     "name": "stdout",
     "output_type": "stream",
     "text": [
      "Model no. 32 not added due to lower F1: 0.96721\n"
     ]
    },
    {
     "data": {
      "text/html": [],
      "text/plain": [
       "<IPython.core.display.HTML object>"
      ]
     },
     "metadata": {},
     "output_type": "display_data"
    },
    {
     "name": "stdout",
     "output_type": "stream",
     "text": [
      "Model no. 33 not added due to lower F1: 0.96814\n"
     ]
    },
    {
     "data": {
      "text/html": [],
      "text/plain": [
       "<IPython.core.display.HTML object>"
      ]
     },
     "metadata": {},
     "output_type": "display_data"
    },
    {
     "name": "stdout",
     "output_type": "stream",
     "text": [
      "Model no. 34 not added due to lower F1: 0.97324\n"
     ]
    },
    {
     "data": {
      "text/html": [],
      "text/plain": [
       "<IPython.core.display.HTML object>"
      ]
     },
     "metadata": {},
     "output_type": "display_data"
    },
    {
     "name": "stdout",
     "output_type": "stream",
     "text": [
      "Model no. 35 not added due to lower F1: 0.96490\n"
     ]
    },
    {
     "data": {
      "text/html": [],
      "text/plain": [
       "<IPython.core.display.HTML object>"
      ]
     },
     "metadata": {},
     "output_type": "display_data"
    },
    {
     "name": "stdout",
     "output_type": "stream",
     "text": [
      "Model no. 36 not added due to lower F1: 0.93964\n"
     ]
    },
    {
     "data": {
      "text/html": [],
      "text/plain": [
       "<IPython.core.display.HTML object>"
      ]
     },
     "metadata": {},
     "output_type": "display_data"
    },
    {
     "name": "stdout",
     "output_type": "stream",
     "text": [
      "Model no. 37 not added due to lower F1: 0.97874\n"
     ]
    },
    {
     "data": {
      "text/html": [],
      "text/plain": [
       "<IPython.core.display.HTML object>"
      ]
     },
     "metadata": {},
     "output_type": "display_data"
    },
    {
     "name": "stdout",
     "output_type": "stream",
     "text": [
      "Model no. 38 not added due to lower F1: 0.97546\n"
     ]
    },
    {
     "data": {
      "text/html": [],
      "text/plain": [
       "<IPython.core.display.HTML object>"
      ]
     },
     "metadata": {},
     "output_type": "display_data"
    },
    {
     "name": "stdout",
     "output_type": "stream",
     "text": [
      "Model no. 39 not added due to lower F1: 0.97908\n"
     ]
    },
    {
     "data": {
      "text/html": [],
      "text/plain": [
       "<IPython.core.display.HTML object>"
      ]
     },
     "metadata": {},
     "output_type": "display_data"
    },
    {
     "name": "stdout",
     "output_type": "stream",
     "text": [
      "Model no. 40 not added due to lower F1: 0.97380\n"
     ]
    },
    {
     "data": {
      "text/html": [],
      "text/plain": [
       "<IPython.core.display.HTML object>"
      ]
     },
     "metadata": {},
     "output_type": "display_data"
    },
    {
     "name": "stdout",
     "output_type": "stream",
     "text": [
      "Model no. 41 not added due to lower F1: 0.97418\n"
     ]
    },
    {
     "data": {
      "text/html": [],
      "text/plain": [
       "<IPython.core.display.HTML object>"
      ]
     },
     "metadata": {},
     "output_type": "display_data"
    },
    {
     "name": "stdout",
     "output_type": "stream",
     "text": [
      "Model no. 42 not added due to lower F1: 0.97607\n"
     ]
    },
    {
     "data": {
      "text/html": [],
      "text/plain": [
       "<IPython.core.display.HTML object>"
      ]
     },
     "metadata": {},
     "output_type": "display_data"
    },
    {
     "name": "stdout",
     "output_type": "stream",
     "text": [
      "Model no. 43 not added due to lower F1: 0.96396\n"
     ]
    },
    {
     "data": {
      "text/html": [],
      "text/plain": [
       "<IPython.core.display.HTML object>"
      ]
     },
     "metadata": {},
     "output_type": "display_data"
    },
    {
     "name": "stdout",
     "output_type": "stream",
     "text": [
      "Model no. 44 not added due to lower F1: 0.96836\n"
     ]
    },
    {
     "data": {
      "text/html": [],
      "text/plain": [
       "<IPython.core.display.HTML object>"
      ]
     },
     "metadata": {},
     "output_type": "display_data"
    },
    {
     "name": "stdout",
     "output_type": "stream",
     "text": [
      "Model no. 45 not added due to lower F1: 0.97374\n"
     ]
    },
    {
     "data": {
      "text/html": [],
      "text/plain": [
       "<IPython.core.display.HTML object>"
      ]
     },
     "metadata": {},
     "output_type": "display_data"
    },
    {
     "name": "stdout",
     "output_type": "stream",
     "text": [
      "Model no. 46 not added due to lower F1: 0.96879\n"
     ]
    },
    {
     "data": {
      "text/html": [],
      "text/plain": [
       "<IPython.core.display.HTML object>"
      ]
     },
     "metadata": {},
     "output_type": "display_data"
    },
    {
     "name": "stdout",
     "output_type": "stream",
     "text": [
      "Model no. 47 not added due to lower F1: 0.92675\n"
     ]
    },
    {
     "data": {
      "text/html": [],
      "text/plain": [
       "<IPython.core.display.HTML object>"
      ]
     },
     "metadata": {},
     "output_type": "display_data"
    },
    {
     "name": "stdout",
     "output_type": "stream",
     "text": [
      "Model no. 48 not added due to lower F1: 0.96546\n"
     ]
    },
    {
     "data": {
      "text/html": [],
      "text/plain": [
       "<IPython.core.display.HTML object>"
      ]
     },
     "metadata": {},
     "output_type": "display_data"
    },
    {
     "name": "stdout",
     "output_type": "stream",
     "text": [
      "Model no. 49 not added due to lower F1: 0.94894\n"
     ]
    },
    {
     "data": {
      "text/html": [],
      "text/plain": [
       "<IPython.core.display.HTML object>"
      ]
     },
     "metadata": {},
     "output_type": "display_data"
    },
    {
     "name": "stdout",
     "output_type": "stream",
     "text": [
      "Model no. 50 not added due to lower F1: 0.97165\n"
     ]
    }
   ],
   "source": [
    "greedy_soup_weights = get_greedy_soup_weights(fnames, f1_scores)"
   ]
  },
  {
   "cell_type": "code",
   "execution_count": null,
   "id": "76fd27b1-eda9-47e6-a4a6-95c427d30016",
   "metadata": {},
   "outputs": [],
   "source": []
  }
 ],
 "metadata": {
  "kernelspec": {
   "display_name": "Python [conda env:fastai]",
   "language": "python",
   "name": "conda-env-fastai-py"
  }
 },
 "nbformat": 4,
 "nbformat_minor": 5
}
