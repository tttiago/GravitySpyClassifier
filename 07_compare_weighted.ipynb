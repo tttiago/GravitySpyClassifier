{
 "cells": [
  {
   "cell_type": "code",
   "execution_count": null,
   "id": "c76080b8-d97e-4609-a4ff-ae2e23c0db85",
   "metadata": {},
   "outputs": [],
   "source": [
    "import pandas as pd"
   ]
  },
  {
   "cell_type": "code",
   "execution_count": null,
   "id": "425766b2-1fc7-40af-8a4b-a907cdf7ff20",
   "metadata": {},
   "outputs": [],
   "source": [
    "import wandb\n",
    "api = wandb.Api()\n",
    "\n",
    "names, configs, weighted_losses, f1_scores = [], [], [], []"
   ]
  },
  {
   "cell_type": "code",
   "execution_count": null,
   "id": "15b67667-e0fd-4f7a-97ae-027d40864020",
   "metadata": {},
   "outputs": [],
   "source": [
    "sweep_ids = ['bk150cyb', 's2x8fbyh', 'jlkrerit']\n",
    "for i, sweep_id in enumerate(sweep_ids):\n",
    "    sweep = api.sweep(f\"ogait/thesis_gravity_spy/{sweep_id}\")\n",
    "    for run in sweep.runs:\n",
    "        names.append(run.name)\n",
    "        configs.append('baseline')\n",
    "        weighted_losses.append(run.config['weighted_loss'])\n",
    "        f1_scores.append(run.summary['f1_score'])"
   ]
  },
  {
   "cell_type": "code",
   "execution_count": null,
   "id": "fa6b7fb3-1017-41b4-bd5c-7dd1a924f6d1",
   "metadata": {},
   "outputs": [],
   "source": [
    "sweep_ids = ['1c6j3n0a', '3bs0fyt0', 'r3bsxl7s']\n",
    "for i, sweep_id in enumerate(sweep_ids):\n",
    "    sweep = api.sweep(f\"ogait/thesis_gravity_spy/{sweep_id}\")\n",
    "    for run in sweep.runs:\n",
    "        names.append(run.name)\n",
    "        configs.append('best6')\n",
    "        weighted_losses.append(run.config['weighted_loss'])\n",
    "        f1_scores.append(run.summary['f1_score'])"
   ]
  },
  {
   "cell_type": "code",
   "execution_count": null,
   "id": "4182a1af-2ee9-42b1-bee6-4a00c08f8bbf",
   "metadata": {},
   "outputs": [],
   "source": [
    "sweep_ids = ['6ci28yvx', 'jsethu0i', 'czxa4tzd']\n",
    "for i, sweep_id in enumerate(sweep_ids):\n",
    "    sweep = api.sweep(f\"ogait/thesis_gravity_spy/{sweep_id}\")\n",
    "    for run in sweep.runs:\n",
    "        names.append(run.name)\n",
    "        configs.append('resnet34')\n",
    "        weighted_losses.append(run.config['weighted_loss'])\n",
    "        f1_scores.append(run.summary['f1_score'])"
   ]
  },
  {
   "cell_type": "code",
   "execution_count": null,
   "id": "51564ea3-ee9d-4387-b8cf-cf2a7c171a67",
   "metadata": {},
   "outputs": [],
   "source": [
    "sweep_id = \"m4nqsh6e\"\n",
    "sweep = api.sweep(f\"ogait/thesis_gravity_spy/{sweep_id}\")\n",
    "for run in sweep.runs:\n",
    "    names.append(run.name)\n",
    "    configs.append(\"baseline\")\n",
    "    weighted_losses.append(False)\n",
    "f1_scores += list(pd.read_csv('logs/04_baseline_scratch_corrected_f1.csv')['f1_score'])[::-1]"
   ]
  },
  {
   "cell_type": "code",
   "execution_count": null,
   "id": "2a5064cd-1e4b-4559-ae0b-2e3236fae7d4",
   "metadata": {},
   "outputs": [],
   "source": [
    "sweep_id = \"xq185840\"\n",
    "sweep = api.sweep(f\"ogait/thesis_gravity_spy/{sweep_id}\")\n",
    "for run in sweep.runs:\n",
    "    names.append(run.name)\n",
    "    configs.append(\"best6\")\n",
    "    weighted_losses.append(False)\n",
    "    f1_scores.append(run.summary['f1_score'])"
   ]
  },
  {
   "cell_type": "code",
   "execution_count": null,
   "id": "3fd511a5-2060-4440-8baf-3d4c35c2527e",
   "metadata": {},
   "outputs": [
    {
     "data": {
      "text/html": [
       "<div>\n",
       "<style scoped>\n",
       "    .dataframe tbody tr th:only-of-type {\n",
       "        vertical-align: middle;\n",
       "    }\n",
       "\n",
       "    .dataframe tbody tr th {\n",
       "        vertical-align: top;\n",
       "    }\n",
       "\n",
       "    .dataframe thead th {\n",
       "        text-align: right;\n",
       "    }\n",
       "</style>\n",
       "<table border=\"1\" class=\"dataframe\">\n",
       "  <thead>\n",
       "    <tr style=\"text-align: right;\">\n",
       "      <th></th>\n",
       "      <th>config</th>\n",
       "      <th>name</th>\n",
       "      <th>weighting_strategy</th>\n",
       "      <th>f1_score</th>\n",
       "    </tr>\n",
       "  </thead>\n",
       "  <tbody>\n",
       "    <tr>\n",
       "      <th>85</th>\n",
       "      <td>baseline</td>\n",
       "      <td>rare-sweep-1</td>\n",
       "      <td>False</td>\n",
       "      <td>0.972910</td>\n",
       "    </tr>\n",
       "    <tr>\n",
       "      <th>86</th>\n",
       "      <td>baseline</td>\n",
       "      <td>earthy-sweep-2</td>\n",
       "      <td>False</td>\n",
       "      <td>0.971245</td>\n",
       "    </tr>\n",
       "    <tr>\n",
       "      <th>87</th>\n",
       "      <td>baseline</td>\n",
       "      <td>happy-sweep-3</td>\n",
       "      <td>False</td>\n",
       "      <td>0.980292</td>\n",
       "    </tr>\n",
       "    <tr>\n",
       "      <th>88</th>\n",
       "      <td>baseline</td>\n",
       "      <td>soft-sweep-4</td>\n",
       "      <td>False</td>\n",
       "      <td>0.979065</td>\n",
       "    </tr>\n",
       "    <tr>\n",
       "      <th>89</th>\n",
       "      <td>baseline</td>\n",
       "      <td>fluent-sweep-5</td>\n",
       "      <td>False</td>\n",
       "      <td>0.974682</td>\n",
       "    </tr>\n",
       "  </tbody>\n",
       "</table>\n",
       "</div>"
      ],
      "text/plain": [
       "      config            name weighting_strategy  f1_score\n",
       "85  baseline    rare-sweep-1              False  0.972910\n",
       "86  baseline  earthy-sweep-2              False  0.971245\n",
       "87  baseline   happy-sweep-3              False  0.980292\n",
       "88  baseline    soft-sweep-4              False  0.979065\n",
       "89  baseline  fluent-sweep-5              False  0.974682"
      ]
     },
     "execution_count": null,
     "metadata": {},
     "output_type": "execute_result"
    }
   ],
   "source": [
    "f1_df = pd.DataFrame(list(zip(configs[::-1], names[::-1], weighted_losses[::-1], f1_scores[::-1])), columns=['config', 'name', 'weighting_strategy', 'f1_score'])\n",
    "f1_df.tail()"
   ]
  },
  {
   "cell_type": "code",
   "execution_count": null,
   "id": "55e89cb7-f6f7-48a9-927c-47717b11142c",
   "metadata": {},
   "outputs": [],
   "source": [
    "f1_df.loc[f1_df['weighting_strategy'] == False, 'weighting_strategy'] = \"none\""
   ]
  },
  {
   "cell_type": "code",
   "execution_count": null,
   "id": "4afc4eba-5d79-4f8e-8954-f17c8260f74f",
   "metadata": {},
   "outputs": [],
   "source": [
    "f1_df.to_csv('logs/07_compare_weighted.csv')"
   ]
  },
  {
   "cell_type": "code",
   "execution_count": null,
   "id": "81fbb9d4-1951-4168-92bc-c4e6b04e40bb",
   "metadata": {},
   "outputs": [],
   "source": []
  },
  {
   "cell_type": "code",
   "execution_count": null,
   "id": "f22ea6d8-1288-445c-9923-ae604808db5f",
   "metadata": {},
   "outputs": [],
   "source": []
  },
  {
   "cell_type": "code",
   "execution_count": null,
   "id": "63c1d4ea-acc2-4334-bce2-9fda0ac6de4e",
   "metadata": {},
   "outputs": [],
   "source": [
    "import pandas as pd\n",
    "import seaborn as sns\n",
    "import matplotlib.pyplot as plt"
   ]
  },
  {
   "cell_type": "code",
   "execution_count": null,
   "id": "ab1a47f8-981a-43fb-a5a9-4f223474d149",
   "metadata": {},
   "outputs": [],
   "source": [
    "f1_df = pd.read_csv('logs/07_compare_weighted.csv')"
   ]
  },
  {
   "cell_type": "code",
   "execution_count": null,
   "id": "05c7719a-4bae-4174-a592-48e079e0688c",
   "metadata": {},
   "outputs": [
    {
     "name": "stderr",
     "output_type": "stream",
     "text": [
      "/tmp/ipykernel_33081/1702217468.py:2: FutureWarning: Dropping of nuisance columns in DataFrame reductions (with 'numeric_only=None') is deprecated; in a future version this will raise TypeError.  Select only valid columns before calling the reduction.\n",
      "  f1_df.loc[filt].median(0)\n"
     ]
    },
    {
     "data": {
      "text/plain": [
       "Unnamed: 0    47.000000\n",
       "f1_score       0.973796\n",
       "dtype: float64"
      ]
     },
     "execution_count": null,
     "metadata": {},
     "output_type": "execute_result"
    }
   ],
   "source": [
    "filt = (f1_df['config'] == 'baseline') & (f1_df['weighting_strategy'] == 'none')\n",
    "f1_df.loc[filt].median(0)"
   ]
  },
  {
   "cell_type": "code",
   "execution_count": null,
   "id": "4078622e-51f6-4807-a6a8-3dc2569d5d8d",
   "metadata": {},
   "outputs": [
    {
     "data": {
      "image/png": "[encoded data removed]",
      "text/plain": [
       "<Figure size 864x432 with 1 Axes>"
      ]
     },
     "metadata": {
      "needs_background": "light"
     },
     "output_type": "display_data"
    }
   ],
   "source": [
    "import matplotlib.lines as mlines\n",
    "\n",
    "fig = plt.figure(figsize=(12, 6))\n",
    "sns.boxplot(x='weighting_strategy', y='f1_score', hue='config', data=f1_df, \n",
    "            showmeans=True, meanprops={\"marker\": \"+\", \"markeredgecolor\": \"black\"},\n",
    "            hue_order=sorted(f1_df['config'].unique()), order=['none', 'inverse', 'effective'])\n",
    "plt.ylim([0.95, 0.99])\n",
    "ax = plt.gca()\n",
    "l = ax.get_ylabel()\n",
    "ax.set_ylabel(l, size='x-large')\n",
    "ax.set_xlabel(\"weighting_strategy\", size='x-large')\n",
    "plt.xticks(fontsize='large')\n",
    "leg1 = plt.legend(title='configuration', loc='upper left')\n",
    "#ax.set_xticks([])\n",
    "\n",
    "maximum = plt.hlines(0.980712, -0.75, 2.75, linestyles='dotted', color='grey', label='baseline maximum')\n",
    "median = plt.hlines(0.973796, -0.75, 2.75, linestyles='dashed', color='grey', label='baseline median')\n",
    "average = mlines.Line2D([], [], color='black', marker='+', linestyle='None',\n",
    "                          markersize=8, label='distribution average')\n",
    "baseline_legend = ax.legend(handles=[maximum, median, average], loc='upper right')\n",
    "ax.add_artist(baseline_legend)\n",
    "ax.add_artist(leg1)\n",
    "\n",
    "fig.tight_layout()\n",
    "\n",
    "fig.savefig('../figs/glitches/07_compare_weighted.pdf', dpi=300)"
   ]
  },
  {
   "cell_type": "code",
   "execution_count": null,
   "id": "96faf11c-e642-4b4c-850d-66027df4a118",
   "metadata": {},
   "outputs": [],
   "source": []
  },
  {
   "cell_type": "code",
   "execution_count": null,
   "id": "b4d0ea7d-e669-41b7-80a8-f9ce6de03f01",
   "metadata": {},
   "outputs": [],
   "source": []
  },
  {
   "cell_type": "code",
   "execution_count": null,
   "id": "a5d0c83c-e7f4-44a8-a222-17a1d3cf9cd5",
   "metadata": {},
   "outputs": [
    {
     "data": {
      "image/png": "[encoded data removed]",
      "text/plain": [
       "<Figure size 576x360 with 1 Axes>"
      ]
     },
     "metadata": {
      "needs_background": "light"
     },
     "output_type": "display_data"
    }
   ],
   "source": [
    "import matplotlib.lines as mlines\n",
    "\n",
    "fig = plt.figure(figsize=(8, 5))\n",
    "sns.boxplot(x='weighting_strategy', y='f1_score', hue='config', data=f1_df, \n",
    "            #showmeans=True, meanprops={\"marker\": \"+\", \"markeredgecolor\": \"black\"},\n",
    "            hue_order=sorted(f1_df['config'].unique()), order=['none', 'inverse', 'effective'])\n",
    "plt.ylim([0.94, 0.99])\n",
    "ax = plt.gca()\n",
    "l = ax.get_ylabel()\n",
    "ax.set_ylabel(l, size='x-large')\n",
    "ax.set_xlabel(\"weighting_strategy\", size='x-large')\n",
    "plt.xticks(fontsize='large')\n",
    "leg1 = plt.legend(title='configuration', loc='lower left')\n",
    "#ax.set_xticks([])\n",
    "\n",
    "maximum = plt.hlines(0.980712, -0.75, 2.75, linestyles='dotted', color='grey', label='baseline maximum')\n",
    "median = plt.hlines(0.973796, -0.75, 2.75, linestyles='dashed', color='grey', label='baseline median')\n",
    "#average = mlines.Line2D([], [], color='black', marker='+', linestyle='None', markersize=10, label='average')\n",
    "baseline_legend = ax.legend(handles=[maximum, median], loc='upper left')\n",
    "ax.add_artist(baseline_legend)\n",
    "ax.add_artist(leg1)\n",
    "\n",
    "fig.tight_layout()\n",
    "\n",
    "fig.savefig('../figs/glitches/07_compare_weighted.png', dpi=600)"
   ]
  },
  {
   "cell_type": "code",
   "execution_count": null,
   "id": "41d9c6b0-3162-44cc-8d4d-ebe92bb9d675",
   "metadata": {},
   "outputs": [
    {
     "data": {
      "image/png": "[encoded data removed]",
      "text/plain": [
       "<Figure size 720x432 with 1 Axes>"
      ]
     },
     "metadata": {
      "needs_background": "light"
     },
     "output_type": "display_data"
    }
   ],
   "source": [
    "fig = plt.figure(figsize=(10, 6))\n",
    "sns.boxplot(x='weighting_strategy', y='f1_score', hue='config', data=f1_df, hue_order=sorted(f1_df['config'].unique()), order=['none', 'inverse', 'effective'])\n",
    "ax = plt.gca()\n",
    "l = ax.get_ylabel()\n",
    "ax.set_ylabel(l, size='x-large')\n",
    "ax.set_xlabel(\"weighting_strategy\", size='x-large')\n",
    "plt.xticks(fontsize='large')\n",
    "plt.legend(title='configuration', loc='lower right')\n",
    "#ax.set_xticks([])\n",
    "fig.tight_layout()\n",
    "\n",
    "#fig.savefig('../figs/glitches/07_compare_weighted.png', dpi=300)"
   ]
  },
  {
   "cell_type": "code",
   "execution_count": null,
   "id": "21adf116-92a1-4b2d-af88-442c65da59a9",
   "metadata": {},
   "outputs": [],
   "source": []
  }
 ],
 "metadata": {
  "kernelspec": {
   "display_name": "Python [conda env:fastai]",
   "language": "python",
   "name": "conda-env-fastai-py"
  }
 },
 "nbformat": 4,
 "nbformat_minor": 5
}
