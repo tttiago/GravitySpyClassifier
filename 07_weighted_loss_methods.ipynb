{
 "cells": [
  {
   "cell_type": "code",
   "execution_count": 1,
   "id": "9288140d-ef3b-443b-a703-a78463770119",
   "metadata": {},
   "outputs": [],
   "source": [
    "import pandas as pd\n",
    "from torch import tensor"
   ]
  },
  {
   "cell_type": "code",
   "execution_count": 2,
   "id": "cefc463f-dc10-4101-a79e-00547d73182e",
   "metadata": {},
   "outputs": [],
   "source": [
    "meta_data = pd.read_csv(\"datasets/Glitches/trainingset_v1d0_metadata.csv\")"
   ]
  },
  {
   "cell_type": "code",
   "execution_count": 3,
   "id": "4516913b-a962-4ee3-a516-cc461ea2ff25",
   "metadata": {},
   "outputs": [],
   "source": [
    "filt = meta_data['sample_type'].isin(['train', 'validation'])\n",
    "samples_per_class = dict(meta_data.loc[filt]['label'].value_counts())\n",
    "class_weights = tensor([max(samples_per_class.values())/n_samples for _, n_samples in sorted(samples_per_class.items())])"
   ]
  },
  {
   "cell_type": "code",
   "execution_count": 4,
   "id": "319363fa-bc0c-4539-98a5-ace9d56cfa3a",
   "metadata": {},
   "outputs": [
    {
     "name": "stdout",
     "output_type": "stream",
     "text": [
      "1080Lines           : 5.70\n",
      "1400Ripples         : 8.07\n",
      "Air_Compressor      : 32.43\n",
      "Blip                : 1.00\n",
      "Chirp               : 28.38\n",
      "Extremely_Loud      : 4.12\n",
      "Helix               : 6.70\n",
      "Koi_Fish            : 2.25\n",
      "Light_Modulation    : 3.26\n",
      "Low_Frequency_Burst : 2.84\n",
      "Low_Frequency_Lines : 4.13\n",
      "No_Glitch           : 10.32\n",
      "None_of_the_Above   : 21.19\n",
      "Paired_Doves        : 69.09\n",
      "Power_Line          : 4.13\n",
      "Repeating_Blips     : 6.54\n",
      "Scattered_Light     : 4.07\n",
      "Scratchy            : 5.28\n",
      "Tomte               : 16.21\n",
      "Violin_Mode         : 3.96\n",
      "Wandering_Line      : 42.95\n",
      "Whistle             : 6.14\n"
     ]
    }
   ],
   "source": [
    "for idx, label in enumerate(meta_data['label'].unique()):\n",
    "    print(f'{label:<20}: {class_weights[idx]:.2f}')"
   ]
  },
  {
   "cell_type": "code",
   "execution_count": 5,
   "id": "3f1771ee-3fed-4ba2-b60d-2278076864da",
   "metadata": {},
   "outputs": [
    {
     "data": {
      "text/plain": [
       "tensor([ 5.6953,  8.0660, 32.4286,  1.0000, 28.3750,  4.1166,  6.7046,  2.2507,\n",
       "         3.2628,  2.8426,  4.1273, 10.3182, 21.1867, 69.0870,  4.1273,  6.5391,\n",
       "         4.0744,  5.2791, 16.2143,  3.9626, 42.9459,  6.1351],\n",
       "       dtype=torch.float64)"
      ]
     },
     "execution_count": 5,
     "metadata": {},
     "output_type": "execute_result"
    }
   ],
   "source": [
    "class_weights"
   ]
  },
  {
   "cell_type": "code",
   "execution_count": 6,
   "id": "7d461560-c29c-4c37-b849-0dc1dc814583",
   "metadata": {},
   "outputs": [],
   "source": [
    "import numpy as np\n",
    "import matplotlib.pyplot as plt"
   ]
  },
  {
   "cell_type": "code",
   "execution_count": 7,
   "id": "e2e3472b-b376-45b1-9fc7-7237b0f5fd5c",
   "metadata": {},
   "outputs": [
    {
     "data": {
      "text/plain": [
       "array([1589,  706,  559,  487,  401,  390,  386,  385,  385,  301,  279,\n",
       "        259,  243,  237,  197,  154,   98,   75,   56,   49,   37,   23])"
      ]
     },
     "execution_count": 7,
     "metadata": {},
     "output_type": "execute_result"
    }
   ],
   "source": [
    "x = np.array(list(samples_per_class.values()))\n",
    "x"
   ]
  },
  {
   "cell_type": "code",
   "execution_count": 8,
   "id": "a4f22195-22c0-45f2-9025-e322cb88b1b7",
   "metadata": {},
   "outputs": [],
   "source": [
    "betas = [0.9, 0.99, 0.999, 0.9999]"
   ]
  },
  {
   "cell_type": "code",
   "execution_count": 20,
   "id": "1acbba6a-98d0-4f98-975d-f87e37e26be0",
   "metadata": {},
   "outputs": [
    {
     "data": {
      "image/png": "[encoded data removed]",
      "text/plain": [
       "<Figure size 576x360 with 1 Axes>"
      ]
     },
     "metadata": {
      "needs_background": "light"
     },
     "output_type": "display_data"
    }
   ],
   "source": [
    "fig = plt.figure(figsize=(8, 5))\n",
    "\n",
    "for beta in betas:\n",
    "    y = (1.0 - beta) / (1.0 - np.power(beta, x))\n",
    "    y = y / np.sum(y) * len(x)\n",
    "    plt.scatter(x, y, label = rf'effective ($\\beta =${beta})')\n",
    "y = 1 / x\n",
    "y = y / np.sum(y) * len(x)\n",
    "plt.scatter(x, y, label='inverse')\n",
    "# y = 1 / np.sqrt(x)\n",
    "# y = y / np.sum(y) * len(x)\n",
    "# plt.scatter(x, y, label='sqrt')\n",
    "plt.xlim([10, 1000])\n",
    "plt.ylim([0.1, 10])\n",
    "plt.xlabel('Number of class samples', fontsize='x-large')\n",
    "plt.ylabel('Class weight', fontsize='x-large')\n",
    "plt.xscale('log')\n",
    "plt.yscale('log')\n",
    "plt.legend(title='weighting strategy');\n",
    "#plt.legend(title='weighting strategy', ncol=1, loc='lower left');\n",
    "\n",
    "fig.tight_layout()\n",
    "\n",
    "fig.savefig('../figs/glitches/07_loss_weights.png', dpi=300)"
   ]
  },
  {
   "cell_type": "code",
   "execution_count": 10,
   "id": "4dc6ccdc-1840-481a-985e-70bba20b066f",
   "metadata": {},
   "outputs": [
    {
     "data": {
      "text/plain": [
       "2.534178486835194"
      ]
     },
     "execution_count": 10,
     "metadata": {},
     "output_type": "execute_result"
    }
   ],
   "source": [
    "beta = 0.99\n",
    "y = (1.0 - beta) / (1.0 - np.power(beta, x))\n",
    "y = y / np.sum(y) * len(x)\n",
    "max(y)-min(y)"
   ]
  }
 ],
 "metadata": {
  "kernelspec": {
   "display_name": "Python [conda env:fastai]",
   "language": "python",
   "name": "conda-env-fastai-py"
  },
  "language_info": {
   "codemirror_mode": {
    "name": "ipython",
    "version": 3
   },
   "file_extension": ".py",
   "mimetype": "text/x-python",
   "name": "python",
   "nbconvert_exporter": "python",
   "pygments_lexer": "ipython3",
   "version": "3.9.7"
  }
 },
 "nbformat": 4,
 "nbformat_minor": 5
}
