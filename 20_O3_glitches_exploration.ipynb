{
 "cells": [
  {
   "cell_type": "code",
   "execution_count": null,
   "id": "f625e57b-07c5-4fe5-ab14-245214d62d5c",
   "metadata": {},
   "outputs": [],
   "source": [
    "import numpy as np\n",
    "import pandas as pd"
   ]
  },
  {
   "cell_type": "code",
   "execution_count": null,
   "id": "adf7ea16-069b-4cb7-bd34-1c93115d6cff",
   "metadata": {},
   "outputs": [],
   "source": [
    "from gwpy.table import GravitySpyTable"
   ]
  },
  {
   "cell_type": "code",
   "execution_count": null,
   "id": "54e0ac38-3e65-4791-9249-ad5c41ec7fac",
   "metadata": {},
   "outputs": [],
   "source": [
    "O3_data = GravitySpyTable.read([f'./datasets/GlitchesO3/H1_O3b.csv', f'./datasets/GlitchesO3/L1_O3b.csv'])"
   ]
  },
  {
   "cell_type": "code",
   "execution_count": null,
   "id": "2e41b97a-a563-4228-bbac-c9b80de09e25",
   "metadata": {},
   "outputs": [],
   "source": [
    "assert len(O3_data) == 192693 + 99568"
   ]
  },
  {
   "cell_type": "code",
   "execution_count": null,
   "id": "39628c1e-60f7-493c-950f-73ed06708eee",
   "metadata": {},
   "outputs": [
    {
     "data": {
      "text/plain": [
       "(82324, 137938)"
      ]
     },
     "execution_count": null,
     "metadata": {},
     "output_type": "execute_result"
    }
   ],
   "source": [
    "ml_confidence = 0.90\n",
    "H1_confident = O3_data.filter(\"ifo==H1\", f\"ml_confidence>={ml_confidence}\").to_pandas()\n",
    "L1_confident = O3_data.filter(\"ifo==L1\", f\"ml_confidence>={ml_confidence}\").to_pandas()\n",
    "len(H1_confident), len(L1_confident)"
   ]
  },
  {
   "cell_type": "code",
   "execution_count": null,
   "id": "236e4768-18ce-4031-97cb-a7deef2d480f",
   "metadata": {},
   "outputs": [
    {
     "data": {
      "text/plain": [
       "['1080Lines',\n",
       " '1400Ripples',\n",
       " 'Air_Compressor',\n",
       " 'Blip',\n",
       " 'Blip_Low_Frequency',\n",
       " 'Chirp',\n",
       " 'Extremely_Loud',\n",
       " 'Fast_Scattering',\n",
       " 'Helix',\n",
       " 'Koi_Fish',\n",
       " 'Light_Modulation',\n",
       " 'Low_Frequency_Burst',\n",
       " 'Low_Frequency_Lines',\n",
       " 'No_Glitch',\n",
       " 'Paired_Doves',\n",
       " 'Power_Line',\n",
       " 'Repeating_Blips',\n",
       " 'Scattered_Light',\n",
       " 'Scratchy',\n",
       " 'Tomte',\n",
       " 'Violin_Mode',\n",
       " 'Wandering_Line',\n",
       " 'Whistle']"
      ]
     },
     "execution_count": null,
     "metadata": {},
     "output_type": "execute_result"
    }
   ],
   "source": [
    "labels = sorted(np.unique(O3_data['ml_label']))\n",
    "labels"
   ]
  },
  {
   "cell_type": "code",
   "execution_count": null,
   "id": "2944bc29-b730-4eb2-a3cf-9c909c6180a8",
   "metadata": {},
   "outputs": [
    {
     "name": "stdout",
     "output_type": "stream",
     "text": [
      "0 : 1080Lines           :   518 :    80 (L1/H1) samples\n",
      "1 : 1400Ripples         :    34 :    85 (L1/H1) samples\n",
      "2 : Air_Compressor      :   978 :    39 (L1/H1) samples\n",
      "3 : Blip                :  2564 :  3410 (L1/H1) samples\n",
      "4 : Blip_Low_Frequency  :  8728 :  1928 (L1/H1) samples\n",
      "5 : Chirp               :     6 :     4 (L1/H1) samples\n",
      "6 : Extremely_Loud      :  3461 :  5604 (L1/H1) samples\n",
      "7 : Fast_Scattering     : 36918 :  1304 (L1/H1) samples\n",
      "8 : Helix               :    16 :     7 (L1/H1) samples\n",
      "9 : Koi_Fish            :  3010 :  3710 (L1/H1) samples\n",
      "10: Light_Modulation    :   123 :    20 (L1/H1) samples\n",
      "11: Low_Frequency_Burst :  2918 :  1885 (L1/H1) samples\n",
      "12: Low_Frequency_Lines :  3190 :  1018 (L1/H1) samples\n",
      "13: No_Glitch           :  2085 :   573 (L1/H1) samples\n",
      "14: Paired_Doves        :   130 :    22 (L1/H1) samples\n",
      "15: Power_Line          :   254 :    87 (L1/H1) samples\n",
      "16: Repeating_Blips     :   308 :   594 (L1/H1) samples\n",
      "17: Scattered_Light     : 44682 : 58739 (L1/H1) samples\n",
      "18: Scratchy            :    81 :   211 (L1/H1) samples\n",
      "19: Tomte               : 22361 :  1357 (L1/H1) samples\n",
      "20: Violin_Mode         :   184 :   388 (L1/H1) samples\n",
      "21: Wandering_Line      :     8 :     1 (L1/H1) samples\n",
      "22: Whistle             :  5381 :  1258 (L1/H1) samples\n"
     ]
    }
   ],
   "source": [
    "total_samples = {}\n",
    "for idx, label in enumerate(labels):\n",
    "    n_samples_H1 = len(H1_confident.loc[H1_confident['ml_label'] == label])\n",
    "    n_samples_L1 = len(L1_confident.loc[L1_confident['ml_label'] == label])\n",
    "    print(f'{idx:<2}: {label:<20}: {n_samples_L1:>5} : {n_samples_H1:>5} (L1/H1) samples')"
   ]
  },
  {
   "cell_type": "code",
   "execution_count": null,
   "id": "9b3b127b-8886-4798-85c6-c221a26c574e",
   "metadata": {},
   "outputs": [
    {
     "data": {
      "text/html": [
       "<div>\n",
       "<style scoped>\n",
       "    .dataframe tbody tr th:only-of-type {\n",
       "        vertical-align: middle;\n",
       "    }\n",
       "\n",
       "    .dataframe tbody tr th {\n",
       "        vertical-align: top;\n",
       "    }\n",
       "\n",
       "    .dataframe thead th {\n",
       "        text-align: right;\n",
       "    }\n",
       "</style>\n",
       "<table border=\"1\" class=\"dataframe\">\n",
       "  <thead>\n",
       "    <tr style=\"text-align: right;\">\n",
       "      <th></th>\n",
       "      <th>id</th>\n",
       "      <th>label</th>\n",
       "      <th>detector</th>\n",
       "    </tr>\n",
       "  </thead>\n",
       "  <tbody>\n",
       "    <tr>\n",
       "      <th>0</th>\n",
       "      <td>4OtG8h8wwc</td>\n",
       "      <td>1080Lines</td>\n",
       "      <td>H1</td>\n",
       "    </tr>\n",
       "    <tr>\n",
       "      <th>1</th>\n",
       "      <td>ZV2x9fosuY</td>\n",
       "      <td>1080Lines</td>\n",
       "      <td>H1</td>\n",
       "    </tr>\n",
       "    <tr>\n",
       "      <th>2</th>\n",
       "      <td>sHNdaM7ELO</td>\n",
       "      <td>1080Lines</td>\n",
       "      <td>H1</td>\n",
       "    </tr>\n",
       "    <tr>\n",
       "      <th>3</th>\n",
       "      <td>diwmOJX3qG</td>\n",
       "      <td>1080Lines</td>\n",
       "      <td>H1</td>\n",
       "    </tr>\n",
       "    <tr>\n",
       "      <th>4</th>\n",
       "      <td>rjvZI2ebvG</td>\n",
       "      <td>1080Lines</td>\n",
       "      <td>H1</td>\n",
       "    </tr>\n",
       "    <tr>\n",
       "      <th>...</th>\n",
       "      <td>...</td>\n",
       "      <td>...</td>\n",
       "      <td>...</td>\n",
       "    </tr>\n",
       "    <tr>\n",
       "      <th>220</th>\n",
       "      <td>H23FqDLgaQ</td>\n",
       "      <td>Whistle</td>\n",
       "      <td>L1</td>\n",
       "    </tr>\n",
       "    <tr>\n",
       "      <th>221</th>\n",
       "      <td>HKJ9M8VytN</td>\n",
       "      <td>Whistle</td>\n",
       "      <td>L1</td>\n",
       "    </tr>\n",
       "    <tr>\n",
       "      <th>222</th>\n",
       "      <td>IAjGDHqPDT</td>\n",
       "      <td>Whistle</td>\n",
       "      <td>L1</td>\n",
       "    </tr>\n",
       "    <tr>\n",
       "      <th>223</th>\n",
       "      <td>dkIL7Jw0bC</td>\n",
       "      <td>Whistle</td>\n",
       "      <td>L1</td>\n",
       "    </tr>\n",
       "    <tr>\n",
       "      <th>224</th>\n",
       "      <td>IZ7TvVCACS</td>\n",
       "      <td>Whistle</td>\n",
       "      <td>L1</td>\n",
       "    </tr>\n",
       "  </tbody>\n",
       "</table>\n",
       "<p>225 rows × 3 columns</p>\n",
       "</div>"
      ],
      "text/plain": [
       "             id      label detector\n",
       "0    4OtG8h8wwc  1080Lines       H1\n",
       "1    ZV2x9fosuY  1080Lines       H1\n",
       "2    sHNdaM7ELO  1080Lines       H1\n",
       "3    diwmOJX3qG  1080Lines       H1\n",
       "4    rjvZI2ebvG  1080Lines       H1\n",
       "..          ...        ...      ...\n",
       "220  H23FqDLgaQ    Whistle       L1\n",
       "221  HKJ9M8VytN    Whistle       L1\n",
       "222  IAjGDHqPDT    Whistle       L1\n",
       "223  dkIL7Jw0bC    Whistle       L1\n",
       "224  IZ7TvVCACS    Whistle       L1\n",
       "\n",
       "[225 rows x 3 columns]"
      ]
     },
     "execution_count": null,
     "metadata": {},
     "output_type": "execute_result"
    }
   ],
   "source": [
    "meta_data = pd.DataFrame(columns=['id', 'label', 'detector'])\n",
    "detectors = ['H1', 'L1']\n",
    "detector_dfs = {'H1': H1_confident, 'L1': L1_confident}\n",
    "for label in labels:\n",
    "    for detector in detectors:\n",
    "        detector_df = detector_dfs[detector]\n",
    "        try:\n",
    "            ids = np.random.choice(detector_df.loc[detector_df['ml_label']==label]['gravityspy_id'], size=5, replace=False)\n",
    "        except ValueError:\n",
    "            ids = np.array(detector_df.loc[detector_df['ml_label']==label]['gravityspy_id'])\n",
    "        for id_ in ids:\n",
    "            meta_data.loc[len(meta_data)] = [id_, label, detector]\n",
    "meta_data"
   ]
  }
 ],
 "metadata": {
  "kernelspec": {
   "display_name": "Python [conda env:GW]",
   "language": "python",
   "name": "conda-env-GW-py"
  }
 },
 "nbformat": 4,
 "nbformat_minor": 5
}
