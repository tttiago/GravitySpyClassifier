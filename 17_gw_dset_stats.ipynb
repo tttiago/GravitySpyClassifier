{
 "cells": [
  {
   "cell_type": "code",
   "execution_count": null,
   "id": "91dd7920-f1fc-4e42-a688-2ffb4deed92c",
   "metadata": {},
   "outputs": [
    {
     "name": "stderr",
     "output_type": "stream",
     "text": [
      "/home/tiago/anaconda3/envs/fastai/lib/python3.9/site-packages/torch/cuda/__init__.py:52: UserWarning: CUDA initialization: Found no NVIDIA driver on your system. Please check that you have an NVIDIA GPU and installed a driver from http://www.nvidia.com/Download/index.aspx (Triggered internally at  /opt/conda/conda-bld/pytorch_1607370151529/work/c10/cuda/CUDAFunctions.cpp:100.)\n",
      "  return torch._C._cuda_getDeviceCount() > 0\n"
     ]
    }
   ],
   "source": [
    "from fastai.basics import *\n",
    "from fastai.vision.all import *"
   ]
  },
  {
   "cell_type": "code",
   "execution_count": null,
   "id": "9682b18c-e56f-407f-a914-e0f5ae9f70da",
   "metadata": {},
   "outputs": [],
   "source": [
    "%load_ext autoreload\n",
    "%autoreload 2"
   ]
  },
  {
   "cell_type": "code",
   "execution_count": null,
   "id": "587e0b75-7227-4a5b-9f28-b641cb5c7f35",
   "metadata": {},
   "outputs": [],
   "source": [
    "from gw_dset import Data_GW"
   ]
  },
  {
   "cell_type": "code",
   "execution_count": null,
   "id": "3eb87e56-7522-4682-bd08-bdba586f6e00",
   "metadata": {},
   "outputs": [],
   "source": [
    "from my_utils import np_to_tensor"
   ]
  },
  {
   "cell_type": "code",
   "execution_count": null,
   "id": "d9c242e8-fc58-4001-8632-7e1ea3d52a01",
   "metadata": {},
   "outputs": [],
   "source": [
    "device = \"cuda\" if torch.cuda.is_available() else \"cpu\"\n",
    "n_classes = 22\n",
    "view = 'encoded1234'"
   ]
  },
  {
   "cell_type": "code",
   "execution_count": null,
   "id": "6609f7b4-ca48-42d2-b7cf-009a8ee5135b",
   "metadata": {},
   "outputs": [],
   "source": [
    "def get_stats(ds):\n",
    "    means, stds = torch.zeros(4), torch.zeros(4)\n",
    "    for sample in ds:\n",
    "        means += sample[0].mean(dim=[1, 2])\n",
    "        stds += sample[0].std(dim=[1, 2])\n",
    "    means = means/len(ds)\n",
    "    stds = stds/len(ds)\n",
    "    return means, stds"
   ]
  },
  {
   "cell_type": "markdown",
   "id": "17864fc9-aba0-4438-b1f5-be196d3fe08b",
   "metadata": {},
   "source": [
    "### v1"
   ]
  },
  {
   "cell_type": "code",
   "execution_count": null,
   "id": "c1e96b39-bc3c-4992-854b-c104970e6cd4",
   "metadata": {},
   "outputs": [],
   "source": [
    "DATASET_PATH = \"./datasets/Real_GWs_v1\"\n",
    "ds = Data_GW(dataset_path=DATASET_PATH, view=view, transform=np_to_tensor)"
   ]
  },
  {
   "cell_type": "code",
   "execution_count": null,
   "id": "bbcfcabf-3f27-4525-91f7-fa8f70c0fffe",
   "metadata": {},
   "outputs": [
    {
     "data": {
      "text/plain": [
       "(tensor([0.1845, 0.1821, 0.1822, 0.1809]),\n",
       " tensor([0.0691, 0.0660, 0.0660, 0.0636]))"
      ]
     },
     "execution_count": null,
     "metadata": {},
     "output_type": "execute_result"
    }
   ],
   "source": [
    "get_stats(ds)"
   ]
  },
  {
   "cell_type": "markdown",
   "id": "34437acc-6f05-4d0b-89fb-8bc7f842596a",
   "metadata": {},
   "source": [
    "### v2"
   ]
  },
  {
   "cell_type": "code",
   "execution_count": null,
   "id": "d56020e2-4415-4c65-8b20-5aa9b85fe101",
   "metadata": {},
   "outputs": [],
   "source": [
    "DATASET_PATH = \"./datasets/Real_GWs_v2\"\n",
    "ds = Data_GW(dataset_path=DATASET_PATH, view=view, transform=np_to_tensor)"
   ]
  },
  {
   "cell_type": "code",
   "execution_count": null,
   "id": "1ba7a048-f6ca-495b-9595-4fd09bd95548",
   "metadata": {},
   "outputs": [
    {
     "data": {
      "text/plain": [
       "(tensor([0.1896, 0.1875, 0.1853, 0.1807]),\n",
       " tensor([0.0773, 0.0724, 0.0686, 0.0635]))"
      ]
     },
     "execution_count": null,
     "metadata": {},
     "output_type": "execute_result"
    }
   ],
   "source": [
    "get_stats(ds)"
   ]
  },
  {
   "cell_type": "markdown",
   "id": "3f153054-0f7c-4c19-b687-0278a3048367",
   "metadata": {},
   "source": [
    "### v3"
   ]
  },
  {
   "cell_type": "code",
   "execution_count": null,
   "id": "b3c275fe-851f-4214-9876-95080cc5d1c4",
   "metadata": {},
   "outputs": [],
   "source": [
    "DATASET_PATH = \"./datasets/Real_GWs_v3\"\n",
    "ds = Data_GW(dataset_path=DATASET_PATH, view=view, transform=np_to_tensor)"
   ]
  },
  {
   "cell_type": "code",
   "execution_count": null,
   "id": "550aa2fa-8e9f-456f-9747-c449e1d8ce70",
   "metadata": {},
   "outputs": [
    {
     "data": {
      "text/plain": [
       "(tensor([0.1594, 0.1584, 0.1569, 0.1531]),\n",
       " tensor([0.0530, 0.0504, 0.0476, 0.0427]))"
      ]
     },
     "execution_count": null,
     "metadata": {},
     "output_type": "execute_result"
    }
   ],
   "source": [
    "get_stats(ds)"
   ]
  },
  {
   "cell_type": "markdown",
   "id": "377a28ee-e781-42e3-9f0e-f4c01c486dfa",
   "metadata": {},
   "source": [
    "### v4"
   ]
  },
  {
   "cell_type": "code",
   "execution_count": null,
   "id": "ba1f34b0-0059-417f-bcc7-783043b2d83f",
   "metadata": {},
   "outputs": [],
   "source": [
    "DATASET_PATH = \"./datasets/Real_GWs_v4\"\n",
    "ds = Data_GW(dataset_path=DATASET_PATH, view=view, transform=np_to_tensor)"
   ]
  },
  {
   "cell_type": "code",
   "execution_count": null,
   "id": "9e8d3321-b1dc-4025-83c4-bcec55083fc4",
   "metadata": {},
   "outputs": [
    {
     "data": {
      "text/plain": [
       "(tensor([0.1729, 0.1717, 0.1702, 0.1688]),\n",
       " tensor([0.0570, 0.0554, 0.0520, 0.0495]))"
      ]
     },
     "execution_count": null,
     "metadata": {},
     "output_type": "execute_result"
    }
   ],
   "source": [
    "get_stats(ds)"
   ]
  },
  {
   "cell_type": "code",
   "execution_count": null,
   "id": "8402f1cf-dfc7-461e-8d16-b7a41dd9a58a",
   "metadata": {},
   "outputs": [],
   "source": []
  }
 ],
 "metadata": {
  "kernelspec": {
   "display_name": "Python [conda env:fastai]",
   "language": "python",
   "name": "conda-env-fastai-py"
  }
 },
 "nbformat": 4,
 "nbformat_minor": 5
}
